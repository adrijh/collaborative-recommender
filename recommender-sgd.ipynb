{
 "cells": [
  {
   "cell_type": "markdown",
   "metadata": {},
   "source": [
    "# Matrix Factorization for Collaborative Filtering"
   ]
  },
  {
   "cell_type": "markdown",
   "metadata": {},
   "source": [
    "For a streaming platform like Netflix, Amazon or Disney+, being able to accurately recommend shows or movies to its users is a key feature necessary to keep clients engaged with the platform's content and therefore subscribed. The difference with many other machine learning problems is that we rarely have much information about an user's preferences apart from the movies or shows he has interacted with.\n",
    "\n",
    "It turns out, the interactions user-content may be enough to create an effective recommender system thanks to the elegant solution of matrix factorization. Before diving into the method, let's introduce our data."
   ]
  },
  {
   "cell_type": "markdown",
   "metadata": {},
   "source": [
    "## MovieLens Dataset"
   ]
  },
  {
   "cell_type": "markdown",
   "metadata": {},
   "source": [
    "MovieLens is a non-commercial recommender run by the research group GroupLens at the University of Minnesota. We will use a small dataset containing 100k ratings of different users. Each user has given a movie a score from 1 to 5 stars."
   ]
  },
  {
   "cell_type": "code",
   "execution_count": 1,
   "metadata": {},
   "outputs": [],
   "source": [
    "import pandas as pd\n",
    "import matplotlib.pyplot as plt\n",
    "import numpy as np\n",
    "from sklearn.model_selection import train_test_split"
   ]
  },
  {
   "cell_type": "code",
   "execution_count": 2,
   "metadata": {},
   "outputs": [],
   "source": [
    "movies = pd.read_csv(\"data/movies.csv\")\n",
    "ratings = pd.read_csv(\"data/ratings.csv\")"
   ]
  },
  {
   "cell_type": "code",
   "execution_count": 3,
   "metadata": {},
   "outputs": [
    {
     "data": {
      "text/html": [
       "<div>\n",
       "<style scoped>\n",
       "    .dataframe tbody tr th:only-of-type {\n",
       "        vertical-align: middle;\n",
       "    }\n",
       "\n",
       "    .dataframe tbody tr th {\n",
       "        vertical-align: top;\n",
       "    }\n",
       "\n",
       "    .dataframe thead th {\n",
       "        text-align: right;\n",
       "    }\n",
       "</style>\n",
       "<table border=\"1\" class=\"dataframe\">\n",
       "  <thead>\n",
       "    <tr style=\"text-align: right;\">\n",
       "      <th></th>\n",
       "      <th>userId</th>\n",
       "      <th>movieId</th>\n",
       "      <th>rating</th>\n",
       "      <th>timestamp</th>\n",
       "    </tr>\n",
       "  </thead>\n",
       "  <tbody>\n",
       "    <tr>\n",
       "      <th>0</th>\n",
       "      <td>1</td>\n",
       "      <td>1</td>\n",
       "      <td>4.0</td>\n",
       "      <td>964982703</td>\n",
       "    </tr>\n",
       "    <tr>\n",
       "      <th>1</th>\n",
       "      <td>1</td>\n",
       "      <td>3</td>\n",
       "      <td>4.0</td>\n",
       "      <td>964981247</td>\n",
       "    </tr>\n",
       "    <tr>\n",
       "      <th>2</th>\n",
       "      <td>1</td>\n",
       "      <td>6</td>\n",
       "      <td>4.0</td>\n",
       "      <td>964982224</td>\n",
       "    </tr>\n",
       "    <tr>\n",
       "      <th>3</th>\n",
       "      <td>1</td>\n",
       "      <td>47</td>\n",
       "      <td>5.0</td>\n",
       "      <td>964983815</td>\n",
       "    </tr>\n",
       "    <tr>\n",
       "      <th>4</th>\n",
       "      <td>1</td>\n",
       "      <td>50</td>\n",
       "      <td>5.0</td>\n",
       "      <td>964982931</td>\n",
       "    </tr>\n",
       "    <tr>\n",
       "      <th>5</th>\n",
       "      <td>1</td>\n",
       "      <td>70</td>\n",
       "      <td>3.0</td>\n",
       "      <td>964982400</td>\n",
       "    </tr>\n",
       "    <tr>\n",
       "      <th>6</th>\n",
       "      <td>1</td>\n",
       "      <td>101</td>\n",
       "      <td>5.0</td>\n",
       "      <td>964980868</td>\n",
       "    </tr>\n",
       "    <tr>\n",
       "      <th>7</th>\n",
       "      <td>1</td>\n",
       "      <td>110</td>\n",
       "      <td>4.0</td>\n",
       "      <td>964982176</td>\n",
       "    </tr>\n",
       "    <tr>\n",
       "      <th>8</th>\n",
       "      <td>1</td>\n",
       "      <td>151</td>\n",
       "      <td>5.0</td>\n",
       "      <td>964984041</td>\n",
       "    </tr>\n",
       "    <tr>\n",
       "      <th>9</th>\n",
       "      <td>1</td>\n",
       "      <td>157</td>\n",
       "      <td>5.0</td>\n",
       "      <td>964984100</td>\n",
       "    </tr>\n",
       "  </tbody>\n",
       "</table>\n",
       "</div>"
      ],
      "text/plain": [
       "   userId  movieId  rating  timestamp\n",
       "0       1        1     4.0  964982703\n",
       "1       1        3     4.0  964981247\n",
       "2       1        6     4.0  964982224\n",
       "3       1       47     5.0  964983815\n",
       "4       1       50     5.0  964982931\n",
       "5       1       70     3.0  964982400\n",
       "6       1      101     5.0  964980868\n",
       "7       1      110     4.0  964982176\n",
       "8       1      151     5.0  964984041\n",
       "9       1      157     5.0  964984100"
      ]
     },
     "execution_count": 3,
     "metadata": {},
     "output_type": "execute_result"
    }
   ],
   "source": [
    "ratings.head(10)"
   ]
  },
  {
   "cell_type": "code",
   "execution_count": 4,
   "metadata": {},
   "outputs": [
    {
     "data": {
      "text/html": [
       "<div>\n",
       "<style scoped>\n",
       "    .dataframe tbody tr th:only-of-type {\n",
       "        vertical-align: middle;\n",
       "    }\n",
       "\n",
       "    .dataframe tbody tr th {\n",
       "        vertical-align: top;\n",
       "    }\n",
       "\n",
       "    .dataframe thead th {\n",
       "        text-align: right;\n",
       "    }\n",
       "</style>\n",
       "<table border=\"1\" class=\"dataframe\">\n",
       "  <thead>\n",
       "    <tr style=\"text-align: right;\">\n",
       "      <th></th>\n",
       "      <th>movieId</th>\n",
       "      <th>title</th>\n",
       "      <th>genres</th>\n",
       "    </tr>\n",
       "  </thead>\n",
       "  <tbody>\n",
       "    <tr>\n",
       "      <th>0</th>\n",
       "      <td>1</td>\n",
       "      <td>Toy Story (1995)</td>\n",
       "      <td>Adventure|Animation|Children|Comedy|Fantasy</td>\n",
       "    </tr>\n",
       "    <tr>\n",
       "      <th>1</th>\n",
       "      <td>2</td>\n",
       "      <td>Jumanji (1995)</td>\n",
       "      <td>Adventure|Children|Fantasy</td>\n",
       "    </tr>\n",
       "    <tr>\n",
       "      <th>2</th>\n",
       "      <td>3</td>\n",
       "      <td>Grumpier Old Men (1995)</td>\n",
       "      <td>Comedy|Romance</td>\n",
       "    </tr>\n",
       "    <tr>\n",
       "      <th>3</th>\n",
       "      <td>4</td>\n",
       "      <td>Waiting to Exhale (1995)</td>\n",
       "      <td>Comedy|Drama|Romance</td>\n",
       "    </tr>\n",
       "    <tr>\n",
       "      <th>4</th>\n",
       "      <td>5</td>\n",
       "      <td>Father of the Bride Part II (1995)</td>\n",
       "      <td>Comedy</td>\n",
       "    </tr>\n",
       "    <tr>\n",
       "      <th>5</th>\n",
       "      <td>6</td>\n",
       "      <td>Heat (1995)</td>\n",
       "      <td>Action|Crime|Thriller</td>\n",
       "    </tr>\n",
       "    <tr>\n",
       "      <th>6</th>\n",
       "      <td>7</td>\n",
       "      <td>Sabrina (1995)</td>\n",
       "      <td>Comedy|Romance</td>\n",
       "    </tr>\n",
       "    <tr>\n",
       "      <th>7</th>\n",
       "      <td>8</td>\n",
       "      <td>Tom and Huck (1995)</td>\n",
       "      <td>Adventure|Children</td>\n",
       "    </tr>\n",
       "    <tr>\n",
       "      <th>8</th>\n",
       "      <td>9</td>\n",
       "      <td>Sudden Death (1995)</td>\n",
       "      <td>Action</td>\n",
       "    </tr>\n",
       "    <tr>\n",
       "      <th>9</th>\n",
       "      <td>10</td>\n",
       "      <td>GoldenEye (1995)</td>\n",
       "      <td>Action|Adventure|Thriller</td>\n",
       "    </tr>\n",
       "  </tbody>\n",
       "</table>\n",
       "</div>"
      ],
      "text/plain": [
       "   movieId                               title  \\\n",
       "0        1                    Toy Story (1995)   \n",
       "1        2                      Jumanji (1995)   \n",
       "2        3             Grumpier Old Men (1995)   \n",
       "3        4            Waiting to Exhale (1995)   \n",
       "4        5  Father of the Bride Part II (1995)   \n",
       "5        6                         Heat (1995)   \n",
       "6        7                      Sabrina (1995)   \n",
       "7        8                 Tom and Huck (1995)   \n",
       "8        9                 Sudden Death (1995)   \n",
       "9       10                    GoldenEye (1995)   \n",
       "\n",
       "                                        genres  \n",
       "0  Adventure|Animation|Children|Comedy|Fantasy  \n",
       "1                   Adventure|Children|Fantasy  \n",
       "2                               Comedy|Romance  \n",
       "3                         Comedy|Drama|Romance  \n",
       "4                                       Comedy  \n",
       "5                        Action|Crime|Thriller  \n",
       "6                               Comedy|Romance  \n",
       "7                           Adventure|Children  \n",
       "8                                       Action  \n",
       "9                    Action|Adventure|Thriller  "
      ]
     },
     "execution_count": 4,
     "metadata": {},
     "output_type": "execute_result"
    }
   ],
   "source": [
    "movies.head(10)"
   ]
  },
  {
   "cell_type": "markdown",
   "metadata": {},
   "source": [
    "We are interested in these 2 files. The ratings dataframe contains an instance of user-movie interaction, and the movies dataframe keeps track of the movieId and title along with some genre labels."
   ]
  },
  {
   "cell_type": "markdown",
   "metadata": {},
   "source": [
    "Let's start by exploring the data and making sure there is no missing data or outliers."
   ]
  },
  {
   "cell_type": "code",
   "execution_count": 5,
   "metadata": {},
   "outputs": [
    {
     "data": {
      "text/html": [
       "<div>\n",
       "<style scoped>\n",
       "    .dataframe tbody tr th:only-of-type {\n",
       "        vertical-align: middle;\n",
       "    }\n",
       "\n",
       "    .dataframe tbody tr th {\n",
       "        vertical-align: top;\n",
       "    }\n",
       "\n",
       "    .dataframe thead th {\n",
       "        text-align: right;\n",
       "    }\n",
       "</style>\n",
       "<table border=\"1\" class=\"dataframe\">\n",
       "  <thead>\n",
       "    <tr style=\"text-align: right;\">\n",
       "      <th></th>\n",
       "      <th>userId</th>\n",
       "      <th>movieId</th>\n",
       "      <th>rating</th>\n",
       "      <th>timestamp</th>\n",
       "    </tr>\n",
       "  </thead>\n",
       "  <tbody>\n",
       "    <tr>\n",
       "      <th>count</th>\n",
       "      <td>100836.000000</td>\n",
       "      <td>100836.000000</td>\n",
       "      <td>100836.000000</td>\n",
       "      <td>1.008360e+05</td>\n",
       "    </tr>\n",
       "    <tr>\n",
       "      <th>mean</th>\n",
       "      <td>326.127564</td>\n",
       "      <td>19435.295718</td>\n",
       "      <td>3.501557</td>\n",
       "      <td>1.205946e+09</td>\n",
       "    </tr>\n",
       "    <tr>\n",
       "      <th>std</th>\n",
       "      <td>182.618491</td>\n",
       "      <td>35530.987199</td>\n",
       "      <td>1.042529</td>\n",
       "      <td>2.162610e+08</td>\n",
       "    </tr>\n",
       "    <tr>\n",
       "      <th>min</th>\n",
       "      <td>1.000000</td>\n",
       "      <td>1.000000</td>\n",
       "      <td>0.500000</td>\n",
       "      <td>8.281246e+08</td>\n",
       "    </tr>\n",
       "    <tr>\n",
       "      <th>25%</th>\n",
       "      <td>177.000000</td>\n",
       "      <td>1199.000000</td>\n",
       "      <td>3.000000</td>\n",
       "      <td>1.019124e+09</td>\n",
       "    </tr>\n",
       "    <tr>\n",
       "      <th>50%</th>\n",
       "      <td>325.000000</td>\n",
       "      <td>2991.000000</td>\n",
       "      <td>3.500000</td>\n",
       "      <td>1.186087e+09</td>\n",
       "    </tr>\n",
       "    <tr>\n",
       "      <th>75%</th>\n",
       "      <td>477.000000</td>\n",
       "      <td>8122.000000</td>\n",
       "      <td>4.000000</td>\n",
       "      <td>1.435994e+09</td>\n",
       "    </tr>\n",
       "    <tr>\n",
       "      <th>max</th>\n",
       "      <td>610.000000</td>\n",
       "      <td>193609.000000</td>\n",
       "      <td>5.000000</td>\n",
       "      <td>1.537799e+09</td>\n",
       "    </tr>\n",
       "  </tbody>\n",
       "</table>\n",
       "</div>"
      ],
      "text/plain": [
       "              userId        movieId         rating     timestamp\n",
       "count  100836.000000  100836.000000  100836.000000  1.008360e+05\n",
       "mean      326.127564   19435.295718       3.501557  1.205946e+09\n",
       "std       182.618491   35530.987199       1.042529  2.162610e+08\n",
       "min         1.000000       1.000000       0.500000  8.281246e+08\n",
       "25%       177.000000    1199.000000       3.000000  1.019124e+09\n",
       "50%       325.000000    2991.000000       3.500000  1.186087e+09\n",
       "75%       477.000000    8122.000000       4.000000  1.435994e+09\n",
       "max       610.000000  193609.000000       5.000000  1.537799e+09"
      ]
     },
     "execution_count": 5,
     "metadata": {},
     "output_type": "execute_result"
    }
   ],
   "source": [
    "ratings.describe()"
   ]
  },
  {
   "cell_type": "code",
   "execution_count": 6,
   "metadata": {},
   "outputs": [
    {
     "name": "stdout",
     "output_type": "stream",
     "text": [
      "<class 'pandas.core.frame.DataFrame'>\n",
      "RangeIndex: 100836 entries, 0 to 100835\n",
      "Data columns (total 4 columns):\n",
      " #   Column     Non-Null Count   Dtype  \n",
      "---  ------     --------------   -----  \n",
      " 0   userId     100836 non-null  int64  \n",
      " 1   movieId    100836 non-null  int64  \n",
      " 2   rating     100836 non-null  float64\n",
      " 3   timestamp  100836 non-null  int64  \n",
      "dtypes: float64(1), int64(3)\n",
      "memory usage: 3.1 MB\n"
     ]
    }
   ],
   "source": [
    "ratings.info()"
   ]
  },
  {
   "cell_type": "markdown",
   "metadata": {},
   "source": [
    "Min and Max rating values are as expected, and there are no missing values in the ratings dataframe."
   ]
  },
  {
   "cell_type": "code",
   "execution_count": 7,
   "metadata": {},
   "outputs": [
    {
     "data": {
      "text/html": [
       "<div>\n",
       "<style scoped>\n",
       "    .dataframe tbody tr th:only-of-type {\n",
       "        vertical-align: middle;\n",
       "    }\n",
       "\n",
       "    .dataframe tbody tr th {\n",
       "        vertical-align: top;\n",
       "    }\n",
       "\n",
       "    .dataframe thead th {\n",
       "        text-align: right;\n",
       "    }\n",
       "</style>\n",
       "<table border=\"1\" class=\"dataframe\">\n",
       "  <thead>\n",
       "    <tr style=\"text-align: right;\">\n",
       "      <th></th>\n",
       "      <th>movieId</th>\n",
       "    </tr>\n",
       "  </thead>\n",
       "  <tbody>\n",
       "    <tr>\n",
       "      <th>count</th>\n",
       "      <td>9742.000000</td>\n",
       "    </tr>\n",
       "    <tr>\n",
       "      <th>mean</th>\n",
       "      <td>42200.353623</td>\n",
       "    </tr>\n",
       "    <tr>\n",
       "      <th>std</th>\n",
       "      <td>52160.494854</td>\n",
       "    </tr>\n",
       "    <tr>\n",
       "      <th>min</th>\n",
       "      <td>1.000000</td>\n",
       "    </tr>\n",
       "    <tr>\n",
       "      <th>25%</th>\n",
       "      <td>3248.250000</td>\n",
       "    </tr>\n",
       "    <tr>\n",
       "      <th>50%</th>\n",
       "      <td>7300.000000</td>\n",
       "    </tr>\n",
       "    <tr>\n",
       "      <th>75%</th>\n",
       "      <td>76232.000000</td>\n",
       "    </tr>\n",
       "    <tr>\n",
       "      <th>max</th>\n",
       "      <td>193609.000000</td>\n",
       "    </tr>\n",
       "  </tbody>\n",
       "</table>\n",
       "</div>"
      ],
      "text/plain": [
       "             movieId\n",
       "count    9742.000000\n",
       "mean    42200.353623\n",
       "std     52160.494854\n",
       "min         1.000000\n",
       "25%      3248.250000\n",
       "50%      7300.000000\n",
       "75%     76232.000000\n",
       "max    193609.000000"
      ]
     },
     "execution_count": 7,
     "metadata": {},
     "output_type": "execute_result"
    }
   ],
   "source": [
    "movies.describe()"
   ]
  },
  {
   "cell_type": "code",
   "execution_count": 8,
   "metadata": {},
   "outputs": [
    {
     "name": "stdout",
     "output_type": "stream",
     "text": [
      "<class 'pandas.core.frame.DataFrame'>\n",
      "RangeIndex: 9742 entries, 0 to 9741\n",
      "Data columns (total 3 columns):\n",
      " #   Column   Non-Null Count  Dtype \n",
      "---  ------   --------------  ----- \n",
      " 0   movieId  9742 non-null   int64 \n",
      " 1   title    9742 non-null   object\n",
      " 2   genres   9742 non-null   object\n",
      "dtypes: int64(1), object(2)\n",
      "memory usage: 228.5+ KB\n"
     ]
    }
   ],
   "source": [
    "movies.info()"
   ]
  },
  {
   "cell_type": "markdown",
   "metadata": {},
   "source": [
    "We can see there is a small problem now; the max movieId in the movies dataframe is 193609, but there are only 9742 movies in this dataframe! This is because we are dealing with a reduced dataset where some movies are not included. There may be missing userId values too, so we will reencode them too."
   ]
  },
  {
   "cell_type": "markdown",
   "metadata": {},
   "source": [
    "We will create a function to perform the necessary transformations:\n",
    "\n",
    "- Drop timestamp and genres columns\n",
    "- Reencode movieId and userId \n",
    "\n",
    "We will also create a dictionary to keep track of the movie titles and their new movieId. This function will output our data as a numpy array.\n",
    "    "
   ]
  },
  {
   "cell_type": "code",
   "execution_count": 9,
   "metadata": {},
   "outputs": [],
   "source": [
    "def mf_prep(ratings, movies):\n",
    "    \n",
    "    # Let's drop the timestamp and genre columns as the will be of no use to us\n",
    "    ratings.drop('timestamp',axis=1,inplace=True)\n",
    "    movies.drop('genres',axis=1, inplace=True)\n",
    "    \n",
    "    # We will merge the dataframes so that we can easily keep title and movieId correspondence\n",
    "    merged_df = ratings.merge(movies, how='left', on='movieId')\n",
    "    \n",
    "    # Pandas has an easy way of reencoding our userId and movieId\n",
    "    merged_df.userId = merged_df.userId.astype('category').cat.codes.values\n",
    "    merged_df.movieId = merged_df.movieId.astype('category').cat.codes.values\n",
    "    \n",
    "    # Now we create a movie dictionary where each key is the movieId and the value its title as a string\n",
    "    movie_dict = merged_df.groupby(['movieId']).max().drop(['userId','rating'],axis=1).to_dict()\n",
    "    \n",
    "    # It will be convienient to output our data as a numpy array\n",
    "    X = np.array([merged_df['userId'], merged_df['movieId']]).T\n",
    "    Y = np.array(merged_df['rating'])\n",
    "    \n",
    "    return X, Y, movie_dict['title']\n",
    "\n",
    "    "
   ]
  },
  {
   "cell_type": "code",
   "execution_count": 10,
   "metadata": {},
   "outputs": [],
   "source": [
    "X, Y, movie_dict = mf_prep(ratings,movies)"
   ]
  },
  {
   "cell_type": "markdown",
   "metadata": {},
   "source": [
    "## Item-Based Recommender - Matrix Factorization"
   ]
  },
  {
   "cell_type": "markdown",
   "metadata": {},
   "source": [
    "The idea behind Matrix Factorization starts with creating an utility matrix R where each row is an user instance and each column a movie"
   ]
  },
  {
   "cell_type": "code",
   "execution_count": 11,
   "metadata": {},
   "outputs": [
    {
     "data": {
      "text/html": [
       "<div>\n",
       "<style scoped>\n",
       "    .dataframe tbody tr th:only-of-type {\n",
       "        vertical-align: middle;\n",
       "    }\n",
       "\n",
       "    .dataframe tbody tr th {\n",
       "        vertical-align: top;\n",
       "    }\n",
       "\n",
       "    .dataframe thead th {\n",
       "        text-align: right;\n",
       "    }\n",
       "</style>\n",
       "<table border=\"1\" class=\"dataframe\">\n",
       "  <thead>\n",
       "    <tr style=\"text-align: right;\">\n",
       "      <th>movieId</th>\n",
       "      <th>1</th>\n",
       "      <th>2</th>\n",
       "      <th>3</th>\n",
       "      <th>4</th>\n",
       "      <th>5</th>\n",
       "      <th>6</th>\n",
       "      <th>7</th>\n",
       "      <th>8</th>\n",
       "      <th>9</th>\n",
       "      <th>10</th>\n",
       "      <th>...</th>\n",
       "      <th>193565</th>\n",
       "      <th>193567</th>\n",
       "      <th>193571</th>\n",
       "      <th>193573</th>\n",
       "      <th>193579</th>\n",
       "      <th>193581</th>\n",
       "      <th>193583</th>\n",
       "      <th>193585</th>\n",
       "      <th>193587</th>\n",
       "      <th>193609</th>\n",
       "    </tr>\n",
       "    <tr>\n",
       "      <th>userId</th>\n",
       "      <th></th>\n",
       "      <th></th>\n",
       "      <th></th>\n",
       "      <th></th>\n",
       "      <th></th>\n",
       "      <th></th>\n",
       "      <th></th>\n",
       "      <th></th>\n",
       "      <th></th>\n",
       "      <th></th>\n",
       "      <th></th>\n",
       "      <th></th>\n",
       "      <th></th>\n",
       "      <th></th>\n",
       "      <th></th>\n",
       "      <th></th>\n",
       "      <th></th>\n",
       "      <th></th>\n",
       "      <th></th>\n",
       "      <th></th>\n",
       "      <th></th>\n",
       "    </tr>\n",
       "  </thead>\n",
       "  <tbody>\n",
       "    <tr>\n",
       "      <th>1</th>\n",
       "      <td>4.0</td>\n",
       "      <td>NaN</td>\n",
       "      <td>4.0</td>\n",
       "      <td>NaN</td>\n",
       "      <td>NaN</td>\n",
       "      <td>4.0</td>\n",
       "      <td>NaN</td>\n",
       "      <td>NaN</td>\n",
       "      <td>NaN</td>\n",
       "      <td>NaN</td>\n",
       "      <td>...</td>\n",
       "      <td>NaN</td>\n",
       "      <td>NaN</td>\n",
       "      <td>NaN</td>\n",
       "      <td>NaN</td>\n",
       "      <td>NaN</td>\n",
       "      <td>NaN</td>\n",
       "      <td>NaN</td>\n",
       "      <td>NaN</td>\n",
       "      <td>NaN</td>\n",
       "      <td>NaN</td>\n",
       "    </tr>\n",
       "    <tr>\n",
       "      <th>2</th>\n",
       "      <td>NaN</td>\n",
       "      <td>NaN</td>\n",
       "      <td>NaN</td>\n",
       "      <td>NaN</td>\n",
       "      <td>NaN</td>\n",
       "      <td>NaN</td>\n",
       "      <td>NaN</td>\n",
       "      <td>NaN</td>\n",
       "      <td>NaN</td>\n",
       "      <td>NaN</td>\n",
       "      <td>...</td>\n",
       "      <td>NaN</td>\n",
       "      <td>NaN</td>\n",
       "      <td>NaN</td>\n",
       "      <td>NaN</td>\n",
       "      <td>NaN</td>\n",
       "      <td>NaN</td>\n",
       "      <td>NaN</td>\n",
       "      <td>NaN</td>\n",
       "      <td>NaN</td>\n",
       "      <td>NaN</td>\n",
       "    </tr>\n",
       "    <tr>\n",
       "      <th>3</th>\n",
       "      <td>NaN</td>\n",
       "      <td>NaN</td>\n",
       "      <td>NaN</td>\n",
       "      <td>NaN</td>\n",
       "      <td>NaN</td>\n",
       "      <td>NaN</td>\n",
       "      <td>NaN</td>\n",
       "      <td>NaN</td>\n",
       "      <td>NaN</td>\n",
       "      <td>NaN</td>\n",
       "      <td>...</td>\n",
       "      <td>NaN</td>\n",
       "      <td>NaN</td>\n",
       "      <td>NaN</td>\n",
       "      <td>NaN</td>\n",
       "      <td>NaN</td>\n",
       "      <td>NaN</td>\n",
       "      <td>NaN</td>\n",
       "      <td>NaN</td>\n",
       "      <td>NaN</td>\n",
       "      <td>NaN</td>\n",
       "    </tr>\n",
       "    <tr>\n",
       "      <th>4</th>\n",
       "      <td>NaN</td>\n",
       "      <td>NaN</td>\n",
       "      <td>NaN</td>\n",
       "      <td>NaN</td>\n",
       "      <td>NaN</td>\n",
       "      <td>NaN</td>\n",
       "      <td>NaN</td>\n",
       "      <td>NaN</td>\n",
       "      <td>NaN</td>\n",
       "      <td>NaN</td>\n",
       "      <td>...</td>\n",
       "      <td>NaN</td>\n",
       "      <td>NaN</td>\n",
       "      <td>NaN</td>\n",
       "      <td>NaN</td>\n",
       "      <td>NaN</td>\n",
       "      <td>NaN</td>\n",
       "      <td>NaN</td>\n",
       "      <td>NaN</td>\n",
       "      <td>NaN</td>\n",
       "      <td>NaN</td>\n",
       "    </tr>\n",
       "    <tr>\n",
       "      <th>5</th>\n",
       "      <td>4.0</td>\n",
       "      <td>NaN</td>\n",
       "      <td>NaN</td>\n",
       "      <td>NaN</td>\n",
       "      <td>NaN</td>\n",
       "      <td>NaN</td>\n",
       "      <td>NaN</td>\n",
       "      <td>NaN</td>\n",
       "      <td>NaN</td>\n",
       "      <td>NaN</td>\n",
       "      <td>...</td>\n",
       "      <td>NaN</td>\n",
       "      <td>NaN</td>\n",
       "      <td>NaN</td>\n",
       "      <td>NaN</td>\n",
       "      <td>NaN</td>\n",
       "      <td>NaN</td>\n",
       "      <td>NaN</td>\n",
       "      <td>NaN</td>\n",
       "      <td>NaN</td>\n",
       "      <td>NaN</td>\n",
       "    </tr>\n",
       "    <tr>\n",
       "      <th>...</th>\n",
       "      <td>...</td>\n",
       "      <td>...</td>\n",
       "      <td>...</td>\n",
       "      <td>...</td>\n",
       "      <td>...</td>\n",
       "      <td>...</td>\n",
       "      <td>...</td>\n",
       "      <td>...</td>\n",
       "      <td>...</td>\n",
       "      <td>...</td>\n",
       "      <td>...</td>\n",
       "      <td>...</td>\n",
       "      <td>...</td>\n",
       "      <td>...</td>\n",
       "      <td>...</td>\n",
       "      <td>...</td>\n",
       "      <td>...</td>\n",
       "      <td>...</td>\n",
       "      <td>...</td>\n",
       "      <td>...</td>\n",
       "      <td>...</td>\n",
       "    </tr>\n",
       "    <tr>\n",
       "      <th>606</th>\n",
       "      <td>2.5</td>\n",
       "      <td>NaN</td>\n",
       "      <td>NaN</td>\n",
       "      <td>NaN</td>\n",
       "      <td>NaN</td>\n",
       "      <td>NaN</td>\n",
       "      <td>2.5</td>\n",
       "      <td>NaN</td>\n",
       "      <td>NaN</td>\n",
       "      <td>NaN</td>\n",
       "      <td>...</td>\n",
       "      <td>NaN</td>\n",
       "      <td>NaN</td>\n",
       "      <td>NaN</td>\n",
       "      <td>NaN</td>\n",
       "      <td>NaN</td>\n",
       "      <td>NaN</td>\n",
       "      <td>NaN</td>\n",
       "      <td>NaN</td>\n",
       "      <td>NaN</td>\n",
       "      <td>NaN</td>\n",
       "    </tr>\n",
       "    <tr>\n",
       "      <th>607</th>\n",
       "      <td>4.0</td>\n",
       "      <td>NaN</td>\n",
       "      <td>NaN</td>\n",
       "      <td>NaN</td>\n",
       "      <td>NaN</td>\n",
       "      <td>NaN</td>\n",
       "      <td>NaN</td>\n",
       "      <td>NaN</td>\n",
       "      <td>NaN</td>\n",
       "      <td>NaN</td>\n",
       "      <td>...</td>\n",
       "      <td>NaN</td>\n",
       "      <td>NaN</td>\n",
       "      <td>NaN</td>\n",
       "      <td>NaN</td>\n",
       "      <td>NaN</td>\n",
       "      <td>NaN</td>\n",
       "      <td>NaN</td>\n",
       "      <td>NaN</td>\n",
       "      <td>NaN</td>\n",
       "      <td>NaN</td>\n",
       "    </tr>\n",
       "    <tr>\n",
       "      <th>608</th>\n",
       "      <td>2.5</td>\n",
       "      <td>2.0</td>\n",
       "      <td>2.0</td>\n",
       "      <td>NaN</td>\n",
       "      <td>NaN</td>\n",
       "      <td>NaN</td>\n",
       "      <td>NaN</td>\n",
       "      <td>NaN</td>\n",
       "      <td>NaN</td>\n",
       "      <td>4.0</td>\n",
       "      <td>...</td>\n",
       "      <td>NaN</td>\n",
       "      <td>NaN</td>\n",
       "      <td>NaN</td>\n",
       "      <td>NaN</td>\n",
       "      <td>NaN</td>\n",
       "      <td>NaN</td>\n",
       "      <td>NaN</td>\n",
       "      <td>NaN</td>\n",
       "      <td>NaN</td>\n",
       "      <td>NaN</td>\n",
       "    </tr>\n",
       "    <tr>\n",
       "      <th>609</th>\n",
       "      <td>3.0</td>\n",
       "      <td>NaN</td>\n",
       "      <td>NaN</td>\n",
       "      <td>NaN</td>\n",
       "      <td>NaN</td>\n",
       "      <td>NaN</td>\n",
       "      <td>NaN</td>\n",
       "      <td>NaN</td>\n",
       "      <td>NaN</td>\n",
       "      <td>4.0</td>\n",
       "      <td>...</td>\n",
       "      <td>NaN</td>\n",
       "      <td>NaN</td>\n",
       "      <td>NaN</td>\n",
       "      <td>NaN</td>\n",
       "      <td>NaN</td>\n",
       "      <td>NaN</td>\n",
       "      <td>NaN</td>\n",
       "      <td>NaN</td>\n",
       "      <td>NaN</td>\n",
       "      <td>NaN</td>\n",
       "    </tr>\n",
       "    <tr>\n",
       "      <th>610</th>\n",
       "      <td>5.0</td>\n",
       "      <td>NaN</td>\n",
       "      <td>NaN</td>\n",
       "      <td>NaN</td>\n",
       "      <td>NaN</td>\n",
       "      <td>5.0</td>\n",
       "      <td>NaN</td>\n",
       "      <td>NaN</td>\n",
       "      <td>NaN</td>\n",
       "      <td>NaN</td>\n",
       "      <td>...</td>\n",
       "      <td>NaN</td>\n",
       "      <td>NaN</td>\n",
       "      <td>NaN</td>\n",
       "      <td>NaN</td>\n",
       "      <td>NaN</td>\n",
       "      <td>NaN</td>\n",
       "      <td>NaN</td>\n",
       "      <td>NaN</td>\n",
       "      <td>NaN</td>\n",
       "      <td>NaN</td>\n",
       "    </tr>\n",
       "  </tbody>\n",
       "</table>\n",
       "<p>610 rows × 9724 columns</p>\n",
       "</div>"
      ],
      "text/plain": [
       "movieId  1       2       3       4       5       6       7       8       \\\n",
       "userId                                                                    \n",
       "1           4.0     NaN     4.0     NaN     NaN     4.0     NaN     NaN   \n",
       "2           NaN     NaN     NaN     NaN     NaN     NaN     NaN     NaN   \n",
       "3           NaN     NaN     NaN     NaN     NaN     NaN     NaN     NaN   \n",
       "4           NaN     NaN     NaN     NaN     NaN     NaN     NaN     NaN   \n",
       "5           4.0     NaN     NaN     NaN     NaN     NaN     NaN     NaN   \n",
       "...         ...     ...     ...     ...     ...     ...     ...     ...   \n",
       "606         2.5     NaN     NaN     NaN     NaN     NaN     2.5     NaN   \n",
       "607         4.0     NaN     NaN     NaN     NaN     NaN     NaN     NaN   \n",
       "608         2.5     2.0     2.0     NaN     NaN     NaN     NaN     NaN   \n",
       "609         3.0     NaN     NaN     NaN     NaN     NaN     NaN     NaN   \n",
       "610         5.0     NaN     NaN     NaN     NaN     5.0     NaN     NaN   \n",
       "\n",
       "movieId  9       10      ...  193565  193567  193571  193573  193579  193581  \\\n",
       "userId                   ...                                                   \n",
       "1           NaN     NaN  ...     NaN     NaN     NaN     NaN     NaN     NaN   \n",
       "2           NaN     NaN  ...     NaN     NaN     NaN     NaN     NaN     NaN   \n",
       "3           NaN     NaN  ...     NaN     NaN     NaN     NaN     NaN     NaN   \n",
       "4           NaN     NaN  ...     NaN     NaN     NaN     NaN     NaN     NaN   \n",
       "5           NaN     NaN  ...     NaN     NaN     NaN     NaN     NaN     NaN   \n",
       "...         ...     ...  ...     ...     ...     ...     ...     ...     ...   \n",
       "606         NaN     NaN  ...     NaN     NaN     NaN     NaN     NaN     NaN   \n",
       "607         NaN     NaN  ...     NaN     NaN     NaN     NaN     NaN     NaN   \n",
       "608         NaN     4.0  ...     NaN     NaN     NaN     NaN     NaN     NaN   \n",
       "609         NaN     4.0  ...     NaN     NaN     NaN     NaN     NaN     NaN   \n",
       "610         NaN     NaN  ...     NaN     NaN     NaN     NaN     NaN     NaN   \n",
       "\n",
       "movieId  193583  193585  193587  193609  \n",
       "userId                                   \n",
       "1           NaN     NaN     NaN     NaN  \n",
       "2           NaN     NaN     NaN     NaN  \n",
       "3           NaN     NaN     NaN     NaN  \n",
       "4           NaN     NaN     NaN     NaN  \n",
       "5           NaN     NaN     NaN     NaN  \n",
       "...         ...     ...     ...     ...  \n",
       "606         NaN     NaN     NaN     NaN  \n",
       "607         NaN     NaN     NaN     NaN  \n",
       "608         NaN     NaN     NaN     NaN  \n",
       "609         NaN     NaN     NaN     NaN  \n",
       "610         NaN     NaN     NaN     NaN  \n",
       "\n",
       "[610 rows x 9724 columns]"
      ]
     },
     "execution_count": 11,
     "metadata": {},
     "output_type": "execute_result"
    }
   ],
   "source": [
    "R = pd.pivot_table(data=ratings,values='rating',index='userId', columns='movieId')\n",
    "R"
   ]
  },
  {
   "cell_type": "markdown",
   "metadata": {},
   "source": [
    "There are a lot of missing values, which is to be expected! As most users will not have rated most movies, the matrix will always be quite sparse."
   ]
  },
  {
   "cell_type": "markdown",
   "metadata": {},
   "source": [
    "What we will try to achieve by factorizing this matrix is obtaining two matrices U and M whose matrix product will result in the utility matrix R. The matrix U will have $n$ rows being the number of users and $k$ columns which will be a parameter of our choosing. The M matrix on the other hand will have $m$ rows representing each unique movie and $k$ columns. So that if we perform the factorization correctly  $U M^{T} = R$"
   ]
  },
  {
   "cell_type": "markdown",
   "metadata": {},
   "source": [
    "What is really interesting about this is the $k$ parameter. First it will determine the dimension of the matrix along one of its axis, so it can be a tool to reduce the dimension of $R$ if that is what we are after. On the other hand, a bigger $k$ will make it easier for the matrix productto be a good approximation of $R$."
   ]
  },
  {
   "cell_type": "markdown",
   "metadata": {},
   "source": [
    "If we denote the k columns for a certain user in the U matrix as $x_{1},...,x_{k}$ and the same columns for a certain movie in the M matrix as $\\theta_{1},...,\\theta_{k}$, the calculation during the matrix product for that user-movie interaction in the R matrix will be\n",
    "\\begin{equation}\n",
    "x_{1} \\theta_{1} + ... + x_{k} \\theta_{k}\n",
    "\\end{equation}\n",
    "\n",
    "These $k$ columns can be interpreted as features determining wether an user will like or not a certain movie. The $x$ features denote an user taste for certain \"movie characteristics\", and the $theta$ a representation of how much of these characteristics a certain movie has. $k$ becomes a dimensionality of taste!, and it will be an important hyperparameter to tune and study."
   ]
  },
  {
   "cell_type": "markdown",
   "metadata": {},
   "source": [
    "However, creating the matrix $R$ explicitly takes a lot of computing power and great amounts of RAM memory (We could only do it because we are dealing with a small dataset). One of the advantages of matrix factorization is to reduce. One of the advantages of using Stochastic Gradient Descent is that we will perform our calculations for each user-rating pair, therefore calculating this matrix will not be necessary."
   ]
  },
  {
   "cell_type": "markdown",
   "metadata": {},
   "source": [
    "Before we proceed, we need to be smart about how we split the dataset. Every user and movie we have available should be present in the training set. In order to do this we will make make a stratify split by user, and then make sure every movie is in the training set moving them from the test set (and deleting them)."
   ]
  },
  {
   "cell_type": "code",
   "execution_count": 12,
   "metadata": {},
   "outputs": [],
   "source": [
    "def mf_split(X,y, test_size=0.22):\n",
    "    X_train, X_test, y_train, y_test = train_test_split(X,y, test_size = test_size, stratify=X[:,0])\n",
    "    \n",
    "    movie_train_index = X_train[:,1]\n",
    "    movie_test_index = X_test[:,1]\n",
    "    deleted_index = []\n",
    "\n",
    "    for index,element in enumerate(movie_test_index):\n",
    "        if element not in movie_train_index:\n",
    "            X_train = np.concatenate((X_train,X_test[index,:].reshape((1,2))),axis=0)        \n",
    "            y_train = np.append(y_train,y_test[index])\n",
    "            deleted_index.append(index)\n",
    "\n",
    "    X_test = np.delete(X_test,deleted_index,axis=0)\n",
    "    y_test = np.delete(y_test,deleted_index)\n",
    "    \n",
    "    return X_train, X_test, y_train, y_test\n",
    "    "
   ]
  },
  {
   "cell_type": "code",
   "execution_count": 13,
   "metadata": {},
   "outputs": [],
   "source": [
    "X_train, X_test, y_train, y_test = mf_split(X,Y, test_size = 0.22)"
   ]
  },
  {
   "cell_type": "markdown",
   "metadata": {},
   "source": [
    "And where is the validation set? Given that we have access to bigger non-reduced datasets by the movieLens group, we can use our \"test set\" as what would traditionally be a validation set, and test our model at the end in a different and bigger dataset if we wish to do so."
   ]
  },
  {
   "cell_type": "markdown",
   "metadata": {},
   "source": [
    "## FunkSGD"
   ]
  },
  {
   "cell_type": "markdown",
   "metadata": {},
   "source": [
    "Our implementation will be based on the proposed model by Simon Funk for the famous competition held by Netflix. For starters, we will define our rating not only as the result of the matrix product of U and M, but with the addition of some bias terms\n",
    "\n",
    "\\begin{equation}\n",
    "r_{um}^{pred} = \\mu + b_{u} + b_{m} + U_{u} M_{m}^{T}\n",
    "\\end{equation}\n",
    "\n",
    "With $\\mu$ the average ratings of all movies, $b_{u}$ an user bias and $b_{m}$ a movie bias.\n",
    "This way, our matrix factorization algorithm actually models small variations from the average global rating, added by variations intrinsic in each user and moÇvie.\n",
    "\n",
    "This is a common and proven model which gives better results than trying to rely completely on the result of matrix factorization."
   ]
  },
  {
   "cell_type": "markdown",
   "metadata": {},
   "source": [
    "The proposed loss function by Simon Funk was\n",
    "\n",
    "\\begin{equation}\n",
    "L = \\sum_{u,m} ( r_{um} - r_{um}^{pred})^{2} + \\lambda \\sum_{u} \\lvert {b_{u}} \\rvert^{2} + \\lambda \\sum_{u} \\lvert {b_{m}} \\rvert^{2} + \\lambda \\sum_{u} \\lvert {U_{u}} \\rvert^{2} + + \\lambda \\sum_{u} \\lvert {M_{m}} \\rvert^{2}\n",
    "\\end{equation}\n",
    "\n",
    "With $\\lambda$ a regularization parameter. It is possible to choose a differente lambda for each term in the right handside of the equation but for simplicity, we will use just one.\n",
    "\n",
    "Along with the Gradient Descent update terms we will be ready to create our model\n",
    "\n",
    "\\begin{equation}\n",
    "b_{u} \\leftarrow b_{u} + \\eta (e_{um} - \\lambda b_{u})\n",
    "\\end{equation}\n",
    "\\begin{equation}\n",
    "b_{m} \\leftarrow b_{m} + \\eta (e_{um} - \\lambda b_{m})\n",
    "\\end{equation}\n",
    "\\begin{equation}\n",
    "U_{u} \\leftarrow U_{u} + \\eta (e_{um}M_{m} - \\lambda U_{u})\n",
    "\\end{equation}\n",
    "\\begin{equation}\n",
    "M_{m} \\leftarrow M_{m} + \\eta (e_{um}U_{u} - \\lambda M_{m})\n",
    "\\end{equation}\n",
    "\n",
    "Where $e_{um}=r_{um} - r_{um}^{pred}$ is the error in our prediction."
   ]
  },
  {
   "cell_type": "markdown",
   "metadata": {},
   "source": [
    "## Creating our model"
   ]
  },
  {
   "cell_type": "markdown",
   "metadata": {},
   "source": [
    "A few things we will include in our model that we haven't mentioned previously are:\n",
    "- A popularity recommender for brand new users \n",
    "- A few methods to add users, calculate RMSE and output recommendations\n",
    "\n",
    "We will use RMSE to measure model performance. Though it is not the best metric for a recommender system, it allows for easier comparison with other models we can find in different papers."
   ]
  },
  {
   "cell_type": "code",
   "execution_count": 14,
   "metadata": {},
   "outputs": [],
   "source": [
    "class MFsgd():\n",
    "    def __init__(self, latent_features = 25, n_epoch = 30, learning_rate = 0.001,\n",
    "                 regularization = 0.001, random_state = None,verbose=False):\n",
    "        \n",
    "        # Here we initialize relevant parameters our model has to keep track of\n",
    "        \n",
    "        self.k = latent_features # number of latent features\n",
    "        self.n_epoch = n_epoch # number of epochs for training\n",
    "        self.learning_rate = learning_rate ## learning rate parameter\n",
    "        self.reg = regularization # regularization parameter\n",
    "        self.random_state = random_state # random state in random initialization\n",
    "        self.present_epoch = 0 # present epoch in training\n",
    "        self.verbose = verbose # parameter to indicate if we want progress feedback during training\n",
    "        \n",
    "        \n",
    "        \n",
    "    def init_params(self,X,Y):    \n",
    "        \n",
    "        np.random.seed(seed=self.random_state) \n",
    "        self.r = Y.shape[0] ## number of ratings\n",
    "        self.n = np.unique(X_train[:,0]).shape[0] # number of unique users\n",
    "        self.m = np.unique(X_train[:,1]).shape[0] # number of unique movies\n",
    "        self.U = np.random.rand(self.n,self.k) # Initialize user and latent factor matrix\n",
    "        self.M = np.random.rand(self.m,self.k) # Initialize user and latent factor matrix\n",
    "        self.bu= np.random.rand(self.n) # Initialize user bias\n",
    "        self.bm= np.random.rand(self.m) # Initialize movie bias\n",
    "        self.mu = np.mean(Y) # Calculate global bias: global mean of ratings\n",
    "        \n",
    "    def load_movie_dict(self, movie_dict):\n",
    "        self.movie_dict = movie_dict\n",
    "    \n",
    "    def movie_avg(self,X,Y):\n",
    "        \n",
    "        movie_avg_ratings = np.zeros((np.unique(X[:,1]).shape[0],3))\n",
    "        \n",
    "        for x in np.unique(X[:,1]):    \n",
    "            movie_avg_ratings[x,0] = np.average(Y[np.where(X[:,1]==x)])\n",
    "            movie_avg_ratings[x,1] = np.sum(X[:,1] == x)\n",
    "            movie_avg_ratings[x,2] = x\n",
    "            \n",
    "        self.movie_avg_ratings = movie_avg_ratings\n",
    "        \n",
    "    \n",
    "    def popularity_recommender(self,min_score=4, min_ratings=20):\n",
    "        \n",
    "        user_movie_ratings = self.movie_avg_ratings        \n",
    "                  \n",
    "        recommender_list = user_movie_ratings[user_movie_ratings[:,0] > min_score]\n",
    "        user_movie_ratings = user_movie_ratings[user_movie_ratings[:,1] > min_ratings]\n",
    "        user_movie_ratings = user_movie_ratings[user_movie_ratings[:,1].argsort()]\n",
    "        user_movie_ratings = np.flip(user_movie_ratings,axis=0)\n",
    "        \n",
    "        list1 = list(np.random.choice(user_movie_ratings[:10,2], size=5,replace=False))\n",
    "        list2 = list(np.random.choice(user_movie_ratings[10:30,2], size=5,replace=False))\n",
    "        final_list= []\n",
    "        final_list = list1 + list2\n",
    "        \n",
    "        \n",
    "        print_list = []\n",
    "        \n",
    "        for movie in final_list:\n",
    "            print_list.append(self.movie_dict[movie])\n",
    "            \n",
    "        return print_list\n",
    "    \n",
    "    \n",
    "    \n",
    "    def predict_rating(self,user,movie):\n",
    "        # This function predicts a movie rating for a certain user\n",
    "        # We are also gonna make sure the prediction dis within (0,5)\n",
    "                 \n",
    "        prediction = self.mu + self.bu[user]+self.bm[movie] + np.dot(self.U[user],self.M[movie])\n",
    "        return np.clip(prediction,0,5)\n",
    "    \n",
    "    def transform(self,X):\n",
    "        \n",
    "        # Returns the whole predicted ratings vector\n",
    "        \n",
    "        size = X[:,0].shape[0]\n",
    "        y_hat = np.empty([size])\n",
    "        for elem in range(size):\n",
    "            user = X[elem,0]\n",
    "            movie = X[elem,1]\n",
    "            y_hat[elem] = self.predict_rating(user,movie)\n",
    "        return y_hat\n",
    "    \n",
    "    def calc_error(self,X,Y):\n",
    "        \n",
    "        # Calculates RMSE for the given data\n",
    "                \n",
    "        size = X[:,0].shape[0]\n",
    "        se = np.sum(np.square(Y - self.transform(X)))\n",
    "        mse = se/size\n",
    "        rmse = np.sqrt(mse)\n",
    "        return rmse\n",
    "    \n",
    "    def single_sgd_step(self,X,Y,index=None):\n",
    "        \n",
    "        ## Stochastic Gradient Descent ##\n",
    "        \n",
    "        # First declaring user and movie\n",
    "        if X.ndim == 2:\n",
    "            user = X[index,0]\n",
    "            movie = X[index,1]\n",
    "        else:\n",
    "            user = X[0]\n",
    "            movie = X[1]\n",
    "            \n",
    "        lr = self.learning_rate\n",
    "        l = self.reg\n",
    "            \n",
    "        # With the help of the previously defined predict_rating function\n",
    "        # we calculate the error between our prediction and the training labels\n",
    "        prediction = self.predict_rating(user,movie)\n",
    "        \n",
    "        if index is None:\n",
    "            err = Y - prediction\n",
    "        else:\n",
    "            err = Y[index] - prediction ## \n",
    "            \n",
    "        # We update the model parameters accordingly\n",
    "            \n",
    "        self.U[user] += lr*(err*self.M[movie]-l*self.U[user])\n",
    "        self.M[movie] += lr*(err*self.U[user]-l*self.M[movie])\n",
    "        self.bu[user] += lr*(err - l*self.bu[user])\n",
    "        self.bm[movie] += lr*(err - l*self.bm[movie])\n",
    "    \n",
    "    def sgd_step(self,X,Y):\n",
    "        \n",
    "        # This function performs SGD once for every user rating pair in the dataset       \n",
    "        \n",
    "        for elem in range(self.r):        \n",
    "                        \n",
    "            self.single_sgd_step(X,Y,elem)\n",
    "            \n",
    "            \n",
    "    def fit(self,X,Y):\n",
    "        \n",
    "        \n",
    "        self.init_params(X,Y)\n",
    "        self.movie_avg(X,Y)\n",
    "        for epoch in range(self.n_epoch):\n",
    "            self.present_epoch += 1\n",
    "            if self.verbose:\n",
    "                print('Training epoch... ({}/{})'.format(self.present_epoch,self.n_epoch))\n",
    "            self.sgd_step(X,Y)\n",
    "            \n",
    "    def add_user_rating(self,X=None,Y=None,n_epoch=5):\n",
    "        \n",
    "        if (X is None) and (Y is None):\n",
    "            new_user = np.zeros((1,self.k))\n",
    "            self.U = np.concatenate((self.U,new_user), axis=0)\n",
    "            self.bu = np.concatenate((self.bu,np.zeros(1)), axis=0)\n",
    "            \n",
    "        elif (X is not None) and (Y is not None):\n",
    "            user = X[0]\n",
    "            movie = X[1]\n",
    "            rating = Y\n",
    "            if user >= self.U.shape[0]:\n",
    "                self.U = np.concatenate((self.U, np.random.rand(1,self.k)),axis=0)\n",
    "                self.bu = np.concatenate((self.bu, np.random.rand()),axis=0)\n",
    "                \n",
    "                for epoch in range(n_epoch):\n",
    "                    self.single_sgd_step(X,Y)\n",
    "            else:\n",
    "                if np.sum(self.U[user] == 0) == self.k:\n",
    "                    \n",
    "                    self.U[user] = np.random.rand(1,self.k) \n",
    "                    self.bu[user] = np.random.rand() \n",
    "                    for epoch in range(n_epoch):\n",
    "                        self.single_sgd_step(X,Y)\n",
    "                else:\n",
    "                    for epoch in range(n_epoch):\n",
    "                        self.single_sgd_step(X,Y)\n",
    "                \n",
    "            \n",
    "            \n",
    "            \n",
    "    def recommend(self,user):\n",
    "        if np.sum(self.U[user] == 0) == self.k:\n",
    "            \n",
    "            return self.popularity_recommender()\n",
    "            \n",
    "        \n",
    "        else:\n",
    "            \n",
    "            user_ratings = self.mu + self.bu[user]+ (self.bm + self.U[user] @ (self.M).T)\n",
    "            \n",
    "            movie_ratings = np.copy(self.movie_avg_ratings)\n",
    "            movie_ratings[:,0] = user_ratings\n",
    "            movie_ratings = movie_ratings[movie_ratings[:,0].argsort()]\n",
    "            movie_ratings = np.flip(movie_ratings,axis=0)\n",
    "            movie_list = list(movie_ratings[:10,2])\n",
    "            print_list= []\n",
    "            \n",
    "            for movie in movie_list:\n",
    "                print_list.append(self.movie_dict[movie])\n",
    "            return print_list\n",
    "    \n",
    "            "
   ]
  },
  {
   "cell_type": "markdown",
   "metadata": {},
   "source": [
    "Let's train our model for about 10 epochs with some arbitrary hyperparameters, just to check if it works as expected"
   ]
  },
  {
   "cell_type": "code",
   "execution_count": 15,
   "metadata": {},
   "outputs": [
    {
     "name": "stdout",
     "output_type": "stream",
     "text": [
      "Training epoch... (1/10)\n",
      "Training epoch... (2/10)\n",
      "Training epoch... (3/10)\n",
      "Training epoch... (4/10)\n",
      "Training epoch... (5/10)\n",
      "Training epoch... (6/10)\n",
      "Training epoch... (7/10)\n",
      "Training epoch... (8/10)\n",
      "Training epoch... (9/10)\n",
      "Training epoch... (10/10)\n"
     ]
    },
    {
     "data": {
      "text/plain": [
       "1.1328010283139673"
      ]
     },
     "execution_count": 15,
     "metadata": {},
     "output_type": "execute_result"
    }
   ],
   "source": [
    "mf = MFsgd(random_state=42,n_epoch=10, latent_features=30, learning_rate = 0.001, regularization=0.001, verbose=True)\n",
    "mf.fit(X_train,y_train)\n",
    "mf.calc_error(X_test,y_test)"
   ]
  },
  {
   "cell_type": "markdown",
   "metadata": {},
   "source": [
    "We get an RMSE of around 1.13 which is pretty bad, but to be expected as we just trainied for 10 epochs with some arbitrary paramaters. Next thing we will do is run it over a considerable amount of time to determine the right amount of epochs, and take that as a standard in further tuning"
   ]
  },
  {
   "cell_type": "code",
   "execution_count": 16,
   "metadata": {},
   "outputs": [],
   "source": [
    "n_epoch=150\n",
    "mf = MFsgd(learning_rate=0.001, verbose=True, random_state=42,latent_features=30, regularization = 0.001)\n",
    "mf.init_params(X_train,y_train)\n",
    "training_error = []\n",
    "val_error = []\n",
    "for epoch in range(n_epoch):\n",
    "    mf.sgd_step(X_train,y_train)\n",
    "    training_error.append(mf.calc_error(X_train, y_train))\n",
    "    val_error.append(mf.calc_error(X_test, y_test))"
   ]
  },
  {
   "cell_type": "code",
   "execution_count": 17,
   "metadata": {},
   "outputs": [
    {
     "data": {
      "image/png": "[encoded data removed]",
      "text/plain": [
       "<Figure size 432x288 with 1 Axes>"
      ]
     },
     "metadata": {
      "needs_background": "light"
     },
     "output_type": "display_data"
    }
   ],
   "source": [
    "plt.plot(training_error[10:],label='Training Error')\n",
    "plt.plot(val_error[10:], label='Validation Error')\n",
    "plt.xlabel('epoch')\n",
    "plt.ylabel('RMSE')\n",
    "plt.legend()\n",
    "plt.show()"
   ]
  },
  {
   "cell_type": "code",
   "execution_count": 18,
   "metadata": {},
   "outputs": [
    {
     "name": "stdout",
     "output_type": "stream",
     "text": [
      "77\n",
      "0.9523884805399696\n"
     ]
    }
   ],
   "source": [
    "print(np.argmin(val_error))\n",
    "print(np.min(val_error))"
   ]
  },
  {
   "cell_type": "markdown",
   "metadata": {},
   "source": [
    "Despite the training error continuously decreasing, the validation error reaches a minimun at 70 epochs and then begins to climb again due to overfitting. We will train our final model for around 70 epochs for the best results."
   ]
  },
  {
   "cell_type": "markdown",
   "metadata": {},
   "source": [
    "## Searching for the best parameters"
   ]
  },
  {
   "cell_type": "markdown",
   "metadata": {},
   "source": [
    "The next sensible step is to find a good combination of hyperparameters to further increase the model accuracy. We will perform a grid search for the learning rate, regularization and number of latent features. Due to the time it will take to perform this search for a reasonable number of combinations, we will limit our hyperparameters a lot and train each model for just 30 epochs"
   ]
  },
  {
   "cell_type": "code",
   "execution_count": 19,
   "metadata": {},
   "outputs": [
    {
     "name": "stdout",
     "output_type": "stream",
     "text": [
      "learning_rate: 0.01 | regularization: 0.1 | latent_features_ 20 | val_rmse: 0.8653481784923158\n",
      "learning_rate: 0.01 | regularization: 0.1 | latent_features_ 30 | val_rmse: 0.8678556459614235\n",
      "learning_rate: 0.01 | regularization: 0.1 | latent_features_ 40 | val_rmse: 0.8717594086932707\n",
      "learning_rate: 0.01 | regularization: 0.01 | latent_features_ 20 | val_rmse: 0.9707825177152599\n",
      "learning_rate: 0.01 | regularization: 0.01 | latent_features_ 30 | val_rmse: 1.0086541292759037\n",
      "learning_rate: 0.01 | regularization: 0.01 | latent_features_ 40 | val_rmse: 1.0251560078473856\n",
      "learning_rate: 0.001 | regularization: 0.1 | latent_features_ 20 | val_rmse: 0.9440248433772415\n",
      "learning_rate: 0.001 | regularization: 0.1 | latent_features_ 30 | val_rmse: 0.9586917017774815\n",
      "learning_rate: 0.001 | regularization: 0.1 | latent_features_ 40 | val_rmse: 0.9691617351253958\n",
      "learning_rate: 0.001 | regularization: 0.01 | latent_features_ 20 | val_rmse: 0.9676543064782779\n",
      "learning_rate: 0.001 | regularization: 0.01 | latent_features_ 30 | val_rmse: 0.9913877713264393\n",
      "learning_rate: 0.001 | regularization: 0.01 | latent_features_ 40 | val_rmse: 1.0087027180438681\n"
     ]
    }
   ],
   "source": [
    "learning_rate = [0.01,0.001]\n",
    "regularization = [0.1, 0.01]\n",
    "latent_features = [20,30,40]\n",
    "n_epoch= 30\n",
    "for lr in learning_rate:\n",
    "    for l in regularization:\n",
    "        for k in latent_features:\n",
    "            mf = MFsgd(random_state=42,latent_features=k,n_epoch=n_epoch, regularization=l, learning_rate=lr)\n",
    "            mf.fit(X_train,y_train)\n",
    "            rmse = mf.calc_error(X_test,y_test)\n",
    "            print('learning_rate: {} | regularization: {} | latent_features_ {} | val_rmse: {}'.format(lr,l,k,rmse))"
   ]
  },
  {
   "cell_type": "markdown",
   "metadata": {},
   "source": [
    "There are quite a few relevant conclusions that can be drawn from the grid search:\n",
    "\n",
    "1. It seems our previous learning rate of 0.001 led us to get stuck in a local minimum, so a bigger value like 0.01 or even a proper learning rate schedule could greatly improve performance.\n",
    "\n",
    "2. A higher regularization parameter also seems to be beneficial as it probably reduces overfitting problems\n",
    "\n",
    "3. The number of latent features doesn't seem very impactful at least in the considered range, however we can see k=40 generally underperforms all else being equal. So a lower value like 20 or 30 will be faster to compute without a great loss in performance\n"
   ]
  },
  {
   "cell_type": "markdown",
   "metadata": {},
   "source": [
    "Our best hyperparameters seem to be learning_rate=0.01, regularization=0.1 and latent_features=20. It would be interesting to see if a training rate schedule could improve performance further.\n",
    "\n",
    "We are gonna try a very simple one. It will start at 0.01 and will linearly decrease to 0.001 in a span of 75 epochs."
   ]
  },
  {
   "cell_type": "code",
   "execution_count": 20,
   "metadata": {},
   "outputs": [],
   "source": [
    "def lr_schedule(n,lr_start,lr_end,span):\n",
    "    c0=lr_start\n",
    "    c1=(lr_end-lr_start)/span\n",
    "    return c0 + (c1*n)"
   ]
  },
  {
   "cell_type": "markdown",
   "metadata": {},
   "source": [
    "Let's see how it performs"
   ]
  },
  {
   "cell_type": "code",
   "execution_count": 21,
   "metadata": {},
   "outputs": [],
   "source": [
    "lr_start = 0.01\n",
    "lr_end = 0.001\n",
    "\n",
    "n_epoch=75\n",
    "mf = MFsgd(random_state=42,latent_features=20,regularization=0.1)\n",
    "mf.init_params(X_train,y_train)\n",
    "training_error = []\n",
    "val_error = []\n",
    "for epoch in range(n_epoch):\n",
    "    mf.learning_rate = lr_schedule(epoch,lr_start,lr_end,n_epoch)\n",
    "    mf.sgd_step(X_train,y_train)\n",
    "    training_error.append(mf.calc_error(X_train, y_train))\n",
    "    val_error.append(mf.calc_error(X_test, y_test))"
   ]
  },
  {
   "cell_type": "code",
   "execution_count": 22,
   "metadata": {},
   "outputs": [
    {
     "data": {
      "image/png": "[encoded data removed]",
      "text/plain": [
       "<Figure size 432x288 with 1 Axes>"
      ]
     },
     "metadata": {
      "needs_background": "light"
     },
     "output_type": "display_data"
    }
   ],
   "source": [
    "plt.plot(training_error,label='Training Error')\n",
    "plt.plot(val_error, label='Validation Error')\n",
    "plt.xlabel('epoch')\n",
    "plt.ylabel('RMSE')\n",
    "plt.legend()\n",
    "plt.show()"
   ]
  },
  {
   "cell_type": "code",
   "execution_count": 23,
   "metadata": {},
   "outputs": [
    {
     "name": "stdout",
     "output_type": "stream",
     "text": [
      "74\n",
      "0.8562565990328064\n"
     ]
    }
   ],
   "source": [
    "print(np.argmin(val_error))\n",
    "print(np.min(val_error))"
   ]
  },
  {
   "cell_type": "markdown",
   "metadata": {},
   "source": [
    "IF we compare with the model using the found parameters and no learning rate schedule"
   ]
  },
  {
   "cell_type": "code",
   "execution_count": 24,
   "metadata": {},
   "outputs": [
    {
     "name": "stdout",
     "output_type": "stream",
     "text": [
      "Training epoch... (1/70)\n",
      "Training epoch... (2/70)\n",
      "Training epoch... (3/70)\n",
      "Training epoch... (4/70)\n",
      "Training epoch... (5/70)\n",
      "Training epoch... (6/70)\n",
      "Training epoch... (7/70)\n",
      "Training epoch... (8/70)\n",
      "Training epoch... (9/70)\n",
      "Training epoch... (10/70)\n",
      "Training epoch... (11/70)\n",
      "Training epoch... (12/70)\n",
      "Training epoch... (13/70)\n",
      "Training epoch... (14/70)\n",
      "Training epoch... (15/70)\n",
      "Training epoch... (16/70)\n",
      "Training epoch... (17/70)\n",
      "Training epoch... (18/70)\n",
      "Training epoch... (19/70)\n",
      "Training epoch... (20/70)\n",
      "Training epoch... (21/70)\n",
      "Training epoch... (22/70)\n",
      "Training epoch... (23/70)\n",
      "Training epoch... (24/70)\n",
      "Training epoch... (25/70)\n",
      "Training epoch... (26/70)\n",
      "Training epoch... (27/70)\n",
      "Training epoch... (28/70)\n",
      "Training epoch... (29/70)\n",
      "Training epoch... (30/70)\n",
      "Training epoch... (31/70)\n",
      "Training epoch... (32/70)\n",
      "Training epoch... (33/70)\n",
      "Training epoch... (34/70)\n",
      "Training epoch... (35/70)\n",
      "Training epoch... (36/70)\n",
      "Training epoch... (37/70)\n",
      "Training epoch... (38/70)\n",
      "Training epoch... (39/70)\n",
      "Training epoch... (40/70)\n",
      "Training epoch... (41/70)\n",
      "Training epoch... (42/70)\n",
      "Training epoch... (43/70)\n",
      "Training epoch... (44/70)\n",
      "Training epoch... (45/70)\n",
      "Training epoch... (46/70)\n",
      "Training epoch... (47/70)\n",
      "Training epoch... (48/70)\n",
      "Training epoch... (49/70)\n",
      "Training epoch... (50/70)\n",
      "Training epoch... (51/70)\n",
      "Training epoch... (52/70)\n",
      "Training epoch... (53/70)\n",
      "Training epoch... (54/70)\n",
      "Training epoch... (55/70)\n",
      "Training epoch... (56/70)\n",
      "Training epoch... (57/70)\n",
      "Training epoch... (58/70)\n",
      "Training epoch... (59/70)\n",
      "Training epoch... (60/70)\n",
      "Training epoch... (61/70)\n",
      "Training epoch... (62/70)\n",
      "Training epoch... (63/70)\n",
      "Training epoch... (64/70)\n",
      "Training epoch... (65/70)\n",
      "Training epoch... (66/70)\n",
      "Training epoch... (67/70)\n",
      "Training epoch... (68/70)\n",
      "Training epoch... (69/70)\n",
      "Training epoch... (70/70)\n"
     ]
    }
   ],
   "source": [
    "mf =MFsgd(random_state=42,n_epoch=70, latent_features=20, learning_rate = 0.01, regularization=0.1, verbose=True)\n",
    "mf.fit(X_train,y_train)"
   ]
  },
  {
   "cell_type": "code",
   "execution_count": 25,
   "metadata": {},
   "outputs": [
    {
     "data": {
      "text/plain": [
       "0.8550533269746192"
      ]
     },
     "execution_count": 25,
     "metadata": {},
     "output_type": "execute_result"
    }
   ],
   "source": [
    "mf.calc_error(X_test,y_test)"
   ]
  },
  {
   "cell_type": "markdown",
   "metadata": {},
   "source": [
    "It seems our learning rate schedule actually worsened performance a bit. This is something that should change with some tweaking, but for now will drop the learning rate schedule."
   ]
  },
  {
   "cell_type": "markdown",
   "metadata": {},
   "source": [
    "## Delivering recommendations for existing and new users"
   ]
  },
  {
   "cell_type": "markdown",
   "metadata": {},
   "source": [
    "One of the main drawbacks of collaborative filtering recommenders is the cold start problem. That is, what do we recommend an absolutely new user with no interactions?\n",
    "In order to alleviate that we have included in our model a popularity recommeneder, recommending for a new user a set of high rated movies (with enough number of ratings). This is just one way to do it, and there are more complex models which take advantage of any other data you may have on the user or movies."
   ]
  },
  {
   "cell_type": "markdown",
   "metadata": {},
   "source": [
    "First we need to load the movie dictionary into our model, so that we can predict titles instead of movie ids"
   ]
  },
  {
   "cell_type": "code",
   "execution_count": 26,
   "metadata": {},
   "outputs": [],
   "source": [
    "mf.load_movie_dict(movie_dict)"
   ]
  },
  {
   "cell_type": "markdown",
   "metadata": {},
   "source": [
    "In order to get recommendations for a certain existing user, all we have to do is use the recommend method"
   ]
  },
  {
   "cell_type": "code",
   "execution_count": 27,
   "metadata": {},
   "outputs": [],
   "source": [
    "recommendations = mf.recommend(100)"
   ]
  },
  {
   "cell_type": "code",
   "execution_count": 28,
   "metadata": {},
   "outputs": [
    {
     "data": {
      "text/plain": [
       "[\"Guess Who's Coming to Dinner (1967)\",\n",
       " 'Beloved (1998)',\n",
       " 'Candleshoe (1977)',\n",
       " 'Wild Parrots of Telegraph Hill, The (2003)',\n",
       " 'Hunting Elephants (2013)',\n",
       " 'P.S. (2004)',\n",
       " 'Yojimbo (1961)',\n",
       " 'Jetée, La (1962)',\n",
       " 'Indignation (2016)',\n",
       " 'Alan Partridge: Alpha Papa (2013)']"
      ]
     },
     "execution_count": 28,
     "metadata": {},
     "output_type": "execute_result"
    }
   ],
   "source": [
    "recommendations"
   ]
  },
  {
   "cell_type": "markdown",
   "metadata": {},
   "source": [
    "Now in order to add a new user (with no previous data) all we have to do is use the add_user_rating method with no arguments"
   ]
  },
  {
   "cell_type": "code",
   "execution_count": 29,
   "metadata": {},
   "outputs": [],
   "source": [
    "mf.add_user_rating()"
   ]
  },
  {
   "cell_type": "markdown",
   "metadata": {},
   "source": [
    "The previous recommend method should detect there is no data on this user and automatically use the popularity recommender included"
   ]
  },
  {
   "cell_type": "code",
   "execution_count": 30,
   "metadata": {},
   "outputs": [],
   "source": [
    "recommendations = mf.recommend(610)"
   ]
  },
  {
   "cell_type": "code",
   "execution_count": 31,
   "metadata": {},
   "outputs": [
    {
     "data": {
      "text/plain": [
       "['Fight Club (1999)',\n",
       " 'Silence of the Lambs, The (1991)',\n",
       " 'Matrix, The (1999)',\n",
       " 'Shawshank Redemption, The (1994)',\n",
       " 'Braveheart (1995)',\n",
       " 'American Beauty (1999)',\n",
       " 'Saving Private Ryan (1998)',\n",
       " 'Usual Suspects, The (1995)',\n",
       " 'Star Wars: Episode V - The Empire Strikes Back (1980)',\n",
       " 'Raiders of the Lost Ark (Indiana Jones and the Raiders of the Lost Ark) (1981)']"
      ]
     },
     "execution_count": 31,
     "metadata": {},
     "output_type": "execute_result"
    }
   ],
   "source": [
    "recommendations"
   ]
  },
  {
   "cell_type": "markdown",
   "metadata": {},
   "source": [
    "Well, those are some good recommendations! A new user won't be without masterpieces to watch"
   ]
  }
 ],
 "metadata": {
  "kernelspec": {
   "display_name": "Python 3",
   "language": "python",
   "name": "python3"
  },
  "language_info": {
   "codemirror_mode": {
    "name": "ipython",
    "version": 3
   },
   "file_extension": ".py",
   "mimetype": "text/x-python",
   "name": "python",
   "nbconvert_exporter": "python",
   "pygments_lexer": "ipython3",
   "version": "3.8.8"
  }
 },
 "nbformat": 4,
 "nbformat_minor": 4
}
