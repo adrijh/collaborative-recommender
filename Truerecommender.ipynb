{
 "cells": [
  {
   "cell_type": "markdown",
   "metadata": {},
   "source": [
    "## Data Analysis"
   ]
  },
  {
   "cell_type": "code",
   "execution_count": 1,
   "metadata": {},
   "outputs": [],
   "source": [
    "import pandas as pd\n",
    "import matplotlib.pyplot as plt\n",
    "import numpy as np\n",
    "from sklearn.model_selection import train_test_split"
   ]
  },
  {
   "cell_type": "code",
   "execution_count": 2,
   "metadata": {},
   "outputs": [],
   "source": [
    "movies = pd.read_csv(\"data/movies.csv\")\n",
    "ratings = pd.read_csv(\"data/ratings.csv\")"
   ]
  },
  {
   "cell_type": "code",
   "execution_count": 129,
   "metadata": {},
   "outputs": [
    {
     "data": {
      "text/html": [
       "<div>\n",
       "<style scoped>\n",
       "    .dataframe tbody tr th:only-of-type {\n",
       "        vertical-align: middle;\n",
       "    }\n",
       "\n",
       "    .dataframe tbody tr th {\n",
       "        vertical-align: top;\n",
       "    }\n",
       "\n",
       "    .dataframe thead th {\n",
       "        text-align: right;\n",
       "    }\n",
       "</style>\n",
       "<table border=\"1\" class=\"dataframe\">\n",
       "  <thead>\n",
       "    <tr style=\"text-align: right;\">\n",
       "      <th></th>\n",
       "      <th>userId</th>\n",
       "      <th>movieId</th>\n",
       "      <th>rating</th>\n",
       "      <th>timestamp</th>\n",
       "    </tr>\n",
       "  </thead>\n",
       "  <tbody>\n",
       "    <tr>\n",
       "      <th>0</th>\n",
       "      <td>1</td>\n",
       "      <td>1</td>\n",
       "      <td>4.0</td>\n",
       "      <td>964982703</td>\n",
       "    </tr>\n",
       "    <tr>\n",
       "      <th>1</th>\n",
       "      <td>1</td>\n",
       "      <td>3</td>\n",
       "      <td>4.0</td>\n",
       "      <td>964981247</td>\n",
       "    </tr>\n",
       "    <tr>\n",
       "      <th>2</th>\n",
       "      <td>1</td>\n",
       "      <td>6</td>\n",
       "      <td>4.0</td>\n",
       "      <td>964982224</td>\n",
       "    </tr>\n",
       "    <tr>\n",
       "      <th>3</th>\n",
       "      <td>1</td>\n",
       "      <td>47</td>\n",
       "      <td>5.0</td>\n",
       "      <td>964983815</td>\n",
       "    </tr>\n",
       "    <tr>\n",
       "      <th>4</th>\n",
       "      <td>1</td>\n",
       "      <td>50</td>\n",
       "      <td>5.0</td>\n",
       "      <td>964982931</td>\n",
       "    </tr>\n",
       "    <tr>\n",
       "      <th>...</th>\n",
       "      <td>...</td>\n",
       "      <td>...</td>\n",
       "      <td>...</td>\n",
       "      <td>...</td>\n",
       "    </tr>\n",
       "    <tr>\n",
       "      <th>100831</th>\n",
       "      <td>610</td>\n",
       "      <td>166534</td>\n",
       "      <td>4.0</td>\n",
       "      <td>1493848402</td>\n",
       "    </tr>\n",
       "    <tr>\n",
       "      <th>100832</th>\n",
       "      <td>610</td>\n",
       "      <td>168248</td>\n",
       "      <td>5.0</td>\n",
       "      <td>1493850091</td>\n",
       "    </tr>\n",
       "    <tr>\n",
       "      <th>100833</th>\n",
       "      <td>610</td>\n",
       "      <td>168250</td>\n",
       "      <td>5.0</td>\n",
       "      <td>1494273047</td>\n",
       "    </tr>\n",
       "    <tr>\n",
       "      <th>100834</th>\n",
       "      <td>610</td>\n",
       "      <td>168252</td>\n",
       "      <td>5.0</td>\n",
       "      <td>1493846352</td>\n",
       "    </tr>\n",
       "    <tr>\n",
       "      <th>100835</th>\n",
       "      <td>610</td>\n",
       "      <td>170875</td>\n",
       "      <td>3.0</td>\n",
       "      <td>1493846415</td>\n",
       "    </tr>\n",
       "  </tbody>\n",
       "</table>\n",
       "<p>100836 rows × 4 columns</p>\n",
       "</div>"
      ],
      "text/plain": [
       "        userId  movieId  rating   timestamp\n",
       "0            1        1     4.0   964982703\n",
       "1            1        3     4.0   964981247\n",
       "2            1        6     4.0   964982224\n",
       "3            1       47     5.0   964983815\n",
       "4            1       50     5.0   964982931\n",
       "...        ...      ...     ...         ...\n",
       "100831     610   166534     4.0  1493848402\n",
       "100832     610   168248     5.0  1493850091\n",
       "100833     610   168250     5.0  1494273047\n",
       "100834     610   168252     5.0  1493846352\n",
       "100835     610   170875     3.0  1493846415\n",
       "\n",
       "[100836 rows x 4 columns]"
      ]
     },
     "execution_count": 129,
     "metadata": {},
     "output_type": "execute_result"
    }
   ],
   "source": [
    "ratings"
   ]
  },
  {
   "cell_type": "code",
   "execution_count": 130,
   "metadata": {},
   "outputs": [
    {
     "data": {
      "text/html": [
       "<div>\n",
       "<style scoped>\n",
       "    .dataframe tbody tr th:only-of-type {\n",
       "        vertical-align: middle;\n",
       "    }\n",
       "\n",
       "    .dataframe tbody tr th {\n",
       "        vertical-align: top;\n",
       "    }\n",
       "\n",
       "    .dataframe thead th {\n",
       "        text-align: right;\n",
       "    }\n",
       "</style>\n",
       "<table border=\"1\" class=\"dataframe\">\n",
       "  <thead>\n",
       "    <tr style=\"text-align: right;\">\n",
       "      <th></th>\n",
       "      <th>movieId</th>\n",
       "      <th>title</th>\n",
       "      <th>genres</th>\n",
       "    </tr>\n",
       "  </thead>\n",
       "  <tbody>\n",
       "    <tr>\n",
       "      <th>0</th>\n",
       "      <td>1</td>\n",
       "      <td>Toy Story (1995)</td>\n",
       "      <td>Adventure|Animation|Children|Comedy|Fantasy</td>\n",
       "    </tr>\n",
       "    <tr>\n",
       "      <th>1</th>\n",
       "      <td>2</td>\n",
       "      <td>Jumanji (1995)</td>\n",
       "      <td>Adventure|Children|Fantasy</td>\n",
       "    </tr>\n",
       "    <tr>\n",
       "      <th>2</th>\n",
       "      <td>3</td>\n",
       "      <td>Grumpier Old Men (1995)</td>\n",
       "      <td>Comedy|Romance</td>\n",
       "    </tr>\n",
       "    <tr>\n",
       "      <th>3</th>\n",
       "      <td>4</td>\n",
       "      <td>Waiting to Exhale (1995)</td>\n",
       "      <td>Comedy|Drama|Romance</td>\n",
       "    </tr>\n",
       "    <tr>\n",
       "      <th>4</th>\n",
       "      <td>5</td>\n",
       "      <td>Father of the Bride Part II (1995)</td>\n",
       "      <td>Comedy</td>\n",
       "    </tr>\n",
       "  </tbody>\n",
       "</table>\n",
       "</div>"
      ],
      "text/plain": [
       "   movieId                               title  \\\n",
       "0        1                    Toy Story (1995)   \n",
       "1        2                      Jumanji (1995)   \n",
       "2        3             Grumpier Old Men (1995)   \n",
       "3        4            Waiting to Exhale (1995)   \n",
       "4        5  Father of the Bride Part II (1995)   \n",
       "\n",
       "                                        genres  \n",
       "0  Adventure|Animation|Children|Comedy|Fantasy  \n",
       "1                   Adventure|Children|Fantasy  \n",
       "2                               Comedy|Romance  \n",
       "3                         Comedy|Drama|Romance  \n",
       "4                                       Comedy  "
      ]
     },
     "execution_count": 130,
     "metadata": {},
     "output_type": "execute_result"
    }
   ],
   "source": [
    "movies.head(5)"
   ]
  },
  {
   "cell_type": "markdown",
   "metadata": {},
   "source": [
    "We are gonna create a handy function to prepare the data easily when we need to:"
   ]
  },
  {
   "cell_type": "code",
   "execution_count": 3,
   "metadata": {},
   "outputs": [],
   "source": [
    "def mf_prep(ratings, movies):\n",
    "    ratings.drop('timestamp',axis=1,inplace=True)\n",
    "    movies.drop('genres',axis=1, inplace=True)\n",
    "    \n",
    "    merged_df = ratings.merge(movies, how='left', on='movieId')\n",
    "    \n",
    "    merged_df.userId = merged_df.userId.astype('category').cat.codes.values\n",
    "    merged_df.movieId = merged_df.movieId.astype('category').cat.codes.values\n",
    "    \n",
    "    movie_dict = merged_df.groupby(['movieId']).max().drop(['userId','rating'],axis=1).to_dict()\n",
    "    \n",
    "    X = np.array([merged_df['userId'], merged_df['movieId']]).T\n",
    "    Y = np.array(merged_df['rating'])\n",
    "    \n",
    "    return X, Y, movie_dict['title']\n",
    "\n",
    "    "
   ]
  },
  {
   "cell_type": "code",
   "execution_count": 4,
   "metadata": {},
   "outputs": [],
   "source": [
    "X, Y, movie_dict = mf_prep(ratings,movies)"
   ]
  },
  {
   "cell_type": "markdown",
   "metadata": {},
   "source": [
    "## Item-Based Recommender - Matrix Factorization"
   ]
  },
  {
   "cell_type": "markdown",
   "metadata": {},
   "source": [
    "The idea is to have an utility matrix R where each row is an user instance and each column a movie"
   ]
  },
  {
   "cell_type": "code",
   "execution_count": 53,
   "metadata": {},
   "outputs": [],
   "source": [
    "R = pd.pivot_table(data=ratings,values='rating',index='userId', columns='movieId')"
   ]
  },
  {
   "cell_type": "markdown",
   "metadata": {},
   "source": [
    "Our objetive is for our recommender to learn a set of features for the movies (x0,x1,..,xk) and a set of weights for each user (theta0,...,thetak) that represents their preference for each of the features x each movie has.  For a certain user i the dot product x(i,k)*theta(i) should give us a the predicted rating r(i,k) our user would assign to movie k.\n",
    "\n",
    "Therefore for all users and movies our problem can be translated to finding two matrices X,Theta containing the movie features and user preferences such that X*Theta=R with R our user-rating matrix. This is called Matrix Factorization and how we approach it will greatly impact the scalability and speed of our Recommender."
   ]
  },
  {
   "cell_type": "markdown",
   "metadata": {},
   "source": [
    "However, creating this matrix explicitly takes a lot of computing power and great amounts of RAM memory. One of the advantages of matrix factorization is to reduce\n",
    "this matrix into two smaller matrices (it is fundamentally dimensionality reduction). One of the advantages of using Stochastic Gradient Descent is that we will perform our calculations for each user-rating pair, therefore calculating this matrix will not be necessary."
   ]
  },
  {
   "cell_type": "markdown",
   "metadata": {},
   "source": [
    "Our matrix factorization will then reduce to find the appropiate U and M matrices of size nxk and mxk respectively. Where k is the number of latent features for movie and user taste, a parameter we can tweak to increase our model's performance"
   ]
  },
  {
   "cell_type": "markdown",
   "metadata": {},
   "source": [
    "We need to be smart about how we split the dataset. Every user and movie we have available should be present in the training set, to ensure that we make a stratify split by user and then make sure every movie is in the training set, moving instances from the test set."
   ]
  },
  {
   "cell_type": "code",
   "execution_count": 5,
   "metadata": {},
   "outputs": [],
   "source": [
    "def mf_split(X,y, test_size=0.22):\n",
    "    X_train, X_test, y_train, y_test = train_test_split(X,y, test_size = test_size, stratify=X[:,0])\n",
    "    \n",
    "    movie_train_index = X_train[:,1]\n",
    "    movie_test_index = X_test[:,1]\n",
    "    deleted_index = []\n",
    "\n",
    "    for index,element in enumerate(movie_test_index):\n",
    "        if element not in movie_train_index:\n",
    "            X_train = np.concatenate((X_train,X_test[index,:].reshape((1,2))),axis=0)        \n",
    "            y_train = np.append(y_train,y_test[index])\n",
    "            deleted_index.append(index)\n",
    "\n",
    "    X_test = np.delete(X_test,deleted_index,axis=0)\n",
    "    y_test = np.delete(y_test,deleted_index)\n",
    "    \n",
    "    return X_train, X_test, y_train, y_test\n",
    "    "
   ]
  },
  {
   "cell_type": "code",
   "execution_count": 6,
   "metadata": {},
   "outputs": [],
   "source": [
    "X_train, X_test, y_train, y_test = mf_split(X,Y, test_size = 0.22)"
   ]
  },
  {
   "cell_type": "markdown",
   "metadata": {},
   "source": [
    "## Stochastic Gradient Descent"
   ]
  },
  {
   "cell_type": "markdown",
   "metadata": {},
   "source": [
    "EXPLAIN HERE SGD, LOSS FUNCTION AND UPDATE"
   ]
  },
  {
   "cell_type": "markdown",
   "metadata": {},
   "source": [
    "Now let's initialize our matrices and vectors"
   ]
  },
  {
   "cell_type": "markdown",
   "metadata": {},
   "source": [
    "Now let's test the error on the training set"
   ]
  },
  {
   "cell_type": "code",
   "execution_count": 137,
   "metadata": {},
   "outputs": [],
   "source": [
    "# np.save('U_matrix', U)"
   ]
  },
  {
   "cell_type": "code",
   "execution_count": 138,
   "metadata": {},
   "outputs": [],
   "source": [
    "# np.save('M_matrix', M)"
   ]
  },
  {
   "cell_type": "markdown",
   "metadata": {},
   "source": [
    "## Wrapping our model in scikit-learn object"
   ]
  },
  {
   "cell_type": "code",
   "execution_count": 203,
   "metadata": {},
   "outputs": [],
   "source": [
    "class MFsgd():\n",
    "    def __init__(self, latent_features = 25, n_epoch = 30, learning_rate = 0.001,\n",
    "                 regularization = 0.01, random_state = None,verbose=False):\n",
    "        \n",
    "        # Here we initialize relevant parameters our model has to keep track of\n",
    "        \n",
    "        self.k = latent_features # number of latent features\n",
    "        self.n_epoch = n_epoch # number of epochs for training\n",
    "        self.learning_rate = learning_rate ## learning rate parameter\n",
    "        self.reg = regularization # regularization parameter\n",
    "        self.random_state = random_state # random state in random initialization\n",
    "        self.present_epoch = 0 # present epoch in training\n",
    "        self.verbose = verbose # parameter to indicate if we want progress feedback during training\n",
    "        \n",
    "        \n",
    "        \n",
    "    def init_params(self,X,Y):    \n",
    "        \n",
    "        np.random.seed(seed=self.random_state) \n",
    "        self.r = Y.shape[0] ## number of ratings\n",
    "        self.n = np.unique(X_train[:,0]).shape[0] # number of unique users\n",
    "        self.m = np.unique(X_train[:,1]).shape[0] # number of unique movies\n",
    "        self.U = np.random.rand(self.n,self.k) # Initialize user and latent factor matrix\n",
    "        self.M = np.random.rand(self.m,self.k) # Initialize user and latent factor matrix\n",
    "        self.bu= np.random.rand(self.n) # Initialize user bias\n",
    "        self.bm= np.random.rand(self.m) # Initialize movie bias\n",
    "        self.mu = np.mean(Y) # Calculate global bias: global mean of ratings\n",
    "        \n",
    "    def load_movie_dict(self, movie_dict):\n",
    "        self.movie_dict = movie_dict\n",
    "    \n",
    "    def movie_avg(self,X,Y):\n",
    "        \n",
    "        movie_avg_ratings = np.zeros((np.unique(X[:,1]).shape[0],3))\n",
    "        \n",
    "        for x in np.unique(X[:,1]):    \n",
    "            movie_avg_ratings[x,0] = np.average(Y[np.where(X[:,1]==x)])\n",
    "            movie_avg_ratings[x,1] = np.sum(X[:,1] == x)\n",
    "            movie_avg_ratings[x,2] = x\n",
    "            \n",
    "        self.movie_avg_ratings = movie_avg_ratings\n",
    "        \n",
    "    \n",
    "    def popularity_recommender(self,min_score=4, min_ratings=20):\n",
    "        \n",
    "        user_movie_ratings = self.movie_avg_ratings        \n",
    "                  \n",
    "        recommender_list = user_movie_ratings[user_movie_ratings[:,0] > min_score]\n",
    "        user_movie_ratings = user_movie_ratings[user_movie_ratings[:,1] > min_ratings]\n",
    "        user_movie_ratings = user_movie_ratings[user_movie_ratings[:,1].argsort()]\n",
    "        user_movie_ratings = np.flip(user_movie_ratings,axis=0)\n",
    "        \n",
    "        list1 = list(np.random.choice(user_movie_ratings[:10,2], size=5,replace=False))\n",
    "        list2 = list(np.random.choice(user_movie_ratings[10:30,2], size=5,replace=False))\n",
    "        final_list= []\n",
    "        final_list = list1 + list2\n",
    "        \n",
    "        \n",
    "        print_list = []\n",
    "        \n",
    "        for movie in final_list:\n",
    "            print_list.append(self.movie_dict[movie])\n",
    "            \n",
    "        return print_list\n",
    "    \n",
    "    \n",
    "    \n",
    "    def predict_rating(self,user,movie):\n",
    "        \n",
    "                 \n",
    "        return self.mu + self.bu[user]+self.bm[movie] + np.dot(self.U[user],self.M[movie])\n",
    "    \n",
    "    \n",
    "    def transform(self,X):\n",
    "        \n",
    "        # Returns the whole predicted ratings vector\n",
    "        \n",
    "        size = X[:,0].shape[0]\n",
    "        y_hat = np.empty([size])\n",
    "        for elem in range(size):\n",
    "            user = X[elem,0]\n",
    "            movie = X[elem,1]\n",
    "            y_hat[elem] = self.predict_rating(user,movie)\n",
    "        return y_hat\n",
    "    \n",
    "    def calc_error(self,X,Y):\n",
    "        \n",
    "        # Calculates RMSE for the given data\n",
    "                \n",
    "        size = X[:,0].shape[0]\n",
    "        se = np.sum(np.square(Y - self.transform(X)))\n",
    "        mse = se/size\n",
    "        rmse = np.sqrt(mse)\n",
    "        return rmse\n",
    "    \n",
    "    def single_sgd_step(self,X,Y,index=0):\n",
    "        \n",
    "        ## Stochastic Gradient Descent ##\n",
    "        \n",
    "        # First declaring user and movie\n",
    "        if X.ndim == 2:\n",
    "            user = X[index,0]\n",
    "            movie = X[index,1]\n",
    "        else:\n",
    "            user = X[0]\n",
    "            movie = X[1]\n",
    "        lr = self.learning_rate\n",
    "        l = self.reg\n",
    "            \n",
    "        # With the help of the previously defined predict_rating function\n",
    "        # we calculate the error between our prediction and the training labels\n",
    "            \n",
    "        prediction = self.predict_rating(user,movie)\n",
    "        err = Y[index] - prediction ## \n",
    "            \n",
    "        # We update the model parameters accordingly\n",
    "            \n",
    "        self.U[user] += lr*(err*self.M[movie]-l*self.U[user])\n",
    "        self.M[movie] += lr*(err*self.U[user]-l*self.M[movie])\n",
    "        self.bu[user] += lr*(err - l*self.bu[user])\n",
    "        self.bm[movie] += lr*(err - l*self.bm[movie])\n",
    "    \n",
    "    def sgd_step(self,X,Y):\n",
    "        \n",
    "        # This function performs SGD once for every user rating pair in the dataset       \n",
    "        \n",
    "        for elem in range(self.r):        \n",
    "                        \n",
    "            self.single_sgd_step(X,Y,elem)\n",
    "            \n",
    "            \n",
    "    def fit(self,X,Y):\n",
    "        \n",
    "        \n",
    "        self.init_params(X,Y)\n",
    "        self.movie_avg(X,Y)\n",
    "        for epoch in range(self.n_epoch):\n",
    "            self.present_epoch += 1\n",
    "            if self.verbose:\n",
    "                print('Training epoch... ({}/{})'.format(self.present_epoch,self.n_epoch))\n",
    "            self.sgd_step(X,Y)\n",
    "            \n",
    "    def add_user_rating(self,X=None,Y=None,n_epoch=5):\n",
    "        \n",
    "        if (X is None) and (Y is None):\n",
    "            new_user = np.zeros((1,self.k))\n",
    "            self.U = np.concatenate((self.U,new_user), axis=0)\n",
    "            \n",
    "        elif (X is not None) and (Y is not None):\n",
    "            user = X[0]\n",
    "            movie = X[1]\n",
    "            rating = Y\n",
    "            if user >= self.U.shape[0]:\n",
    "                self.U = np.concatenate((self.U, np.random.rand(1,self.k)),axis=0)\n",
    "                for epoch in range(n_epoch):\n",
    "                    self.single_sgd_step(X,Y)\n",
    "            else:\n",
    "                if np.sum(self.U[user] == 0) == self.k:\n",
    "                    \n",
    "                    self.U[user] = np.random.rand(1,self.k)                    \n",
    "                    for epoch in range(n_epoch):\n",
    "                        self.single_sgd_step(X,Y)\n",
    "                else:\n",
    "                    for epoch in range(n_epoch):\n",
    "                        self.single_sgd_step(X,Y)\n",
    "                \n",
    "            \n",
    "            ## NEED TO ADD THE USER BIAS TOO!!\n",
    "            \n",
    "    def recommend(self,user):\n",
    "        if np.sum(self.U[user] == 0) == self.k:\n",
    "            \n",
    "            return self.popularity_recommender()\n",
    "            \n",
    "        \n",
    "        else:\n",
    "            \n",
    "            user_ratings = self.mu + self.bu[user]+ (self.bm + self.U[user] @ (self.M).T)\n",
    "            \n",
    "            movie_ratings = np.copy(self.movie_avg_ratings)\n",
    "            movie_ratings[:,0] = user_ratings\n",
    "            movie_ratings = movie_ratings[movie_ratings[:,0].argsort()]\n",
    "            movie_ratings = np.flip(movie_ratings,axis=0)\n",
    "            movie_list = list(movie_ratings[:10,2])\n",
    "            print_list= []\n",
    "            \n",
    "            for movie in movie_list:\n",
    "                print_list.append(self.movie_dict[movie])\n",
    "            return print_list\n",
    "    \n",
    "            "
   ]
  },
  {
   "cell_type": "code",
   "execution_count": 204,
   "metadata": {},
   "outputs": [
    {
     "data": {
      "text/plain": [
       "0.8748214728027472"
      ]
     },
     "execution_count": 204,
     "metadata": {},
     "output_type": "execute_result"
    }
   ],
   "source": [
    "mf = MFsgd(random_state=42,n_epoch=30, latent_features=30, learning_rate = 0.01, regularization=0.1)\n",
    "mf.fit(X_train,y_train)\n",
    "mf.calc_error(X_test,y_test)"
   ]
  },
  {
   "cell_type": "markdown",
   "metadata": {},
   "source": [
    "Now let's see how the RMSE changes over each epoch on both the training and test sets"
   ]
  },
  {
   "cell_type": "code",
   "execution_count": 14,
   "metadata": {},
   "outputs": [],
   "source": [
    "n_epoch=150\n",
    "mf = MFsgd(random_state=42,latent_features=30)\n",
    "mf.init_params(X_train,y_train)\n",
    "training_error = []\n",
    "val_error = []\n",
    "for epoch in range(n_epoch):\n",
    "    mf.sgd_step(X_train,y_train)\n",
    "    training_error.append(mf.calc_error(X_train, y_train))\n",
    "    val_error.append(mf.calc_error(X_test, y_test))"
   ]
  },
  {
   "cell_type": "code",
   "execution_count": 15,
   "metadata": {},
   "outputs": [
    {
     "data": {
      "image/png": "[encoded data removed]",
      "text/plain": [
       "<Figure size 432x288 with 1 Axes>"
      ]
     },
     "metadata": {
      "needs_background": "light"
     },
     "output_type": "display_data"
    }
   ],
   "source": [
    "plt.plot(training_error[10:],label='Training Error')\n",
    "plt.plot(val_error[10:], label='Validation Error')\n",
    "plt.xlabel('epoch')\n",
    "plt.ylabel('RMSE')\n",
    "plt.legend()\n",
    "plt.show()"
   ]
  },
  {
   "cell_type": "code",
   "execution_count": 16,
   "metadata": {},
   "outputs": [
    {
     "data": {
      "text/plain": [
       "0.9314383026507431"
      ]
     },
     "execution_count": 16,
     "metadata": {},
     "output_type": "execute_result"
    }
   ],
   "source": [
    "np.min(val_error)"
   ]
  },
  {
   "cell_type": "markdown",
   "metadata": {},
   "source": [
    "Despite the training error continuously decreasing, the validation error reaches a minimun at 75 epochs and then begins to climb again due to overfitting. We will fit our model from now on up to 75 epochs to avoid overfitting."
   ]
  },
  {
   "cell_type": "markdown",
   "metadata": {},
   "source": [
    "## Searching for the best parameters"
   ]
  },
  {
   "cell_type": "markdown",
   "metadata": {},
   "source": [
    "The next sensible step is to find a good combination of hyperparameters to further increase the model accuracy. We will perform a grid search for the learning rate, regularization and number of latent features. Due to the time it will take to perform this search for a reasonable number of combinations, we will train each model for just 30 epochs"
   ]
  },
  {
   "cell_type": "code",
   "execution_count": 18,
   "metadata": {},
   "outputs": [
    {
     "name": "stdout",
     "output_type": "stream",
     "text": [
      "learning_rate: 0.01 | regularization: 0.1 | latent_features: 20 | val_rmse: 0.8547681883839988\n",
      "learning_rate: 0.01 | regularization: 0.1 | latent_features: 30 | val_rmse: 0.8576722214166141\n",
      "learning_rate: 0.01 | regularization: 0.1 | latent_features: 40 | val_rmse: 0.8565306062696357\n",
      "learning_rate: 0.01 | regularization: 0.01 | latent_features: 20 | val_rmse: 1.004354262200486\n",
      "learning_rate: 0.01 | regularization: 0.01 | latent_features: 30 | val_rmse: 1.0392064040166922\n",
      "learning_rate: 0.01 | regularization: 0.01 | latent_features: 40 | val_rmse: 1.0507598809980456\n",
      "learning_rate: 0.001 | regularization: 0.1 | latent_features: 20 | val_rmse: 0.8947266799437251\n",
      "learning_rate: 0.001 | regularization: 0.1 | latent_features: 30 | val_rmse: 0.9051399805819728\n",
      "learning_rate: 0.001 | regularization: 0.1 | latent_features: 40 | val_rmse: 0.9111740247672233\n",
      "learning_rate: 0.001 | regularization: 0.01 | latent_features: 20 | val_rmse: 0.916647306254893\n",
      "learning_rate: 0.001 | regularization: 0.01 | latent_features: 30 | val_rmse: 0.9400941809209883\n",
      "learning_rate: 0.001 | regularization: 0.01 | latent_features: 40 | val_rmse: 0.9561307474950138\n"
     ]
    }
   ],
   "source": [
    "learning_rate = [0.01,0.001]\n",
    "regularization = [0.1, 0.01]\n",
    "latent_features = [20,30,40]\n",
    "n_epoch= 50\n",
    "for lr in learning_rate:\n",
    "    for l in regularization:\n",
    "        for k in latent_features:\n",
    "            mf = MFsgd(random_state=42,latent_features=k,n_epoch=n_epoch, regularization=l, learning_rate=lr)\n",
    "            mf.fit(X_train,y_train)\n",
    "            rmse = mf.calc_error(X_test,y_test)\n",
    "            print('learning_rate: {}'.format(lr) + ' | ' + 'regularization: {}'.format(l) +\n",
    "                  ' | ' + 'latent_features: {}'.format(k) + ' | '  + 'val_rmse: {}'.format(rmse))"
   ]
  },
  {
   "cell_type": "markdown",
   "metadata": {},
   "source": [
    "There are quite a few relevant conclusions that can be drawn from the grid search:\n",
    "\n",
    "1. It seems our previous learning rate of 0.001 led us to get stuck in a local minimum, so a valueof 0.01 or even a proper learning rate schedule could greatly improve performance.\n",
    "\n",
    "2. A higher regularization parameter also seems to be beneficial as ot probably reduces overfitting problems\n",
    "\n",
    "3. The number of latent features doesn't seem very impactful at least in the considered range, however we can see k=40 underperforms all else being equal. So a lower value like 20 or 30 seems more appropiate\n",
    "\n"
   ]
  },
  {
   "cell_type": "markdown",
   "metadata": {},
   "source": [
    "Our best hyperparameters seem to be learning_rate=0.01, regularization=0.1 and latent_features=20. It would be interesting to see if a training rate schedule could improve performance further.\n",
    "\n",
    "We are gonna try a very simple one. It will start at 0.01 and will linearly decrease to 0.001 in a span of 75 epochs."
   ]
  },
  {
   "cell_type": "code",
   "execution_count": 19,
   "metadata": {},
   "outputs": [],
   "source": [
    "def lr_schedule(n,lr_start,lr_end,span):\n",
    "    c0=lr_start\n",
    "    c1=(lr_end-lr_start)/span\n",
    "    return c0 + (c1*n)"
   ]
  },
  {
   "cell_type": "markdown",
   "metadata": {},
   "source": [
    "Let's see how it performs"
   ]
  },
  {
   "cell_type": "code",
   "execution_count": 20,
   "metadata": {},
   "outputs": [],
   "source": [
    "lr_start = 0.01\n",
    "lr_end = 0.001\n",
    "\n",
    "n_epoch=75\n",
    "mf = MFsgd(random_state=42,latent_features=30,regularization=0.1)\n",
    "mf.init_params(X_train,y_train)\n",
    "training_error = []\n",
    "val_error = []\n",
    "for epoch in range(n_epoch):\n",
    "    mf.learning_rate = lr_schedule(epoch,lr_start,lr_end,n_epoch)\n",
    "    mf.sgd_step(X_train,y_train)\n",
    "    training_error.append(mf.calc_error(X_train, y_train))\n",
    "    val_error.append(mf.calc_error(X_test, y_test))"
   ]
  },
  {
   "cell_type": "code",
   "execution_count": 21,
   "metadata": {},
   "outputs": [
    {
     "data": {
      "image/png": "[encoded data removed]",
      "text/plain": [
       "<Figure size 432x288 with 1 Axes>"
      ]
     },
     "metadata": {
      "needs_background": "light"
     },
     "output_type": "display_data"
    }
   ],
   "source": [
    "plt.plot(training_error,label='Training Error')\n",
    "plt.plot(val_error, label='Validation Error')\n",
    "plt.xlabel('epoch')\n",
    "plt.ylabel('RMSE')\n",
    "plt.legend()\n",
    "plt.show()"
   ]
  },
  {
   "cell_type": "code",
   "execution_count": 22,
   "metadata": {},
   "outputs": [
    {
     "data": {
      "text/plain": [
       "0.8551648039394635"
      ]
     },
     "execution_count": 22,
     "metadata": {},
     "output_type": "execute_result"
    }
   ],
   "source": [
    "np.min(val_error)"
   ]
  },
  {
   "cell_type": "markdown",
   "metadata": {},
   "source": [
    "Our learning rate schedule gave us just a marginal decrease in error, so we will do without it for the time being."
   ]
  },
  {
   "cell_type": "code",
   "execution_count": 23,
   "metadata": {},
   "outputs": [],
   "source": [
    "mf =MFsgd(random_state=42,n_epoch=60, latent_features=20, learning_rate = 0.01, regularization=0.1)"
   ]
  },
  {
   "cell_type": "code",
   "execution_count": 24,
   "metadata": {},
   "outputs": [],
   "source": [
    "mf.fit(X_train,y_train)"
   ]
  },
  {
   "cell_type": "code",
   "execution_count": 25,
   "metadata": {},
   "outputs": [
    {
     "data": {
      "text/plain": [
       "0.8531280810844839"
      ]
     },
     "execution_count": 25,
     "metadata": {},
     "output_type": "execute_result"
    }
   ],
   "source": [
    "mf.calc_error(X_test,y_test)"
   ]
  },
  {
   "cell_type": "markdown",
   "metadata": {},
   "source": [
    "## Adding a new user"
   ]
  },
  {
   "cell_type": "markdown",
   "metadata": {},
   "source": [
    "One of the main drawbacks of collaborative filtering recommenders is the cold start problem. That is, what do we recommend an absolutely new user with no interactions?\n",
    "We will make a very simple fix for that situation, recommending a set of popular movies with a high enough rating. This is just one way to do it, and there are more complex models which take advantage of any other data on the user or movies."
   ]
  },
  {
   "cell_type": "code",
   "execution_count": 205,
   "metadata": {},
   "outputs": [],
   "source": [
    "mf.load_movie_dict(movie_dict)"
   ]
  },
  {
   "cell_type": "code",
   "execution_count": 230,
   "metadata": {},
   "outputs": [],
   "source": [
    "recommendations = mf.recommend(100)"
   ]
  },
  {
   "cell_type": "code",
   "execution_count": 231,
   "metadata": {},
   "outputs": [
    {
     "data": {
      "text/plain": [
       "['Belle époque (1992)',\n",
       " 'Black Tar Heroin: The Dark End of the Street (2000)',\n",
       " 'High and Low (Tengoku to jigoku) (1963)',\n",
       " 'The Wait (2015)',\n",
       " 'Faster (2010)',\n",
       " 'Before Night Falls (2000)',\n",
       " 'Come and See (Idi i smotri) (1985)',\n",
       " 'Wristcutters: A Love Story (2006)',\n",
       " 'Seve (2014)',\n",
       " \"My Architect: A Son's Journey (2003)\"]"
      ]
     },
     "execution_count": 231,
     "metadata": {},
     "output_type": "execute_result"
    }
   ],
   "source": [
    "recommendations"
   ]
  },
  {
   "cell_type": "code",
   "execution_count": 232,
   "metadata": {},
   "outputs": [],
   "source": [
    "mf.add_user_rating()"
   ]
  },
  {
   "cell_type": "code",
   "execution_count": 255,
   "metadata": {},
   "outputs": [],
   "source": [
    "recommendations = mf.recommend(610)"
   ]
  },
  {
   "cell_type": "code",
   "execution_count": 256,
   "metadata": {},
   "outputs": [
    {
     "data": {
      "text/plain": [
       "['Silence of the Lambs, The (1991)',\n",
       " 'Forrest Gump (1994)',\n",
       " 'Fight Club (1999)',\n",
       " 'Matrix, The (1999)',\n",
       " 'Shawshank Redemption, The (1994)',\n",
       " 'Toy Story (1995)',\n",
       " 'Star Wars: Episode VI - Return of the Jedi (1983)',\n",
       " 'Shrek (2001)',\n",
       " 'True Lies (1994)',\n",
       " 'Fugitive, The (1993)']"
      ]
     },
     "execution_count": 256,
     "metadata": {},
     "output_type": "execute_result"
    }
   ],
   "source": [
    "recommendations"
   ]
  },
  {
   "cell_type": "code",
   "execution_count": null,
   "metadata": {},
   "outputs": [],
   "source": []
  },
  {
   "cell_type": "code",
   "execution_count": null,
   "metadata": {},
   "outputs": [],
   "source": [
    "new_user_x = np.array([610,])\n",
    "new_user_y = np.array([5])"
   ]
  },
  {
   "cell_type": "code",
   "execution_count": null,
   "metadata": {},
   "outputs": [],
   "source": [
    "mf.add_user_rating()"
   ]
  },
  {
   "cell_type": "markdown",
   "metadata": {},
   "source": [
    "# 25M Dataset"
   ]
  },
  {
   "cell_type": "code",
   "execution_count": 4,
   "metadata": {},
   "outputs": [],
   "source": [
    "ratings25m = pd.read_csv(\"data/ratings25m.csv\")\n",
    "ratings25m.drop('timestamp',axis=1,inplace=True)\n",
    "ratings25m.userId = ratings25m.userId.astype('category').cat.codes.values\n",
    "ratings25m.movieId = ratings25m.movieId.astype('category').cat.codes.values\n",
    "X = np.array([ratings25m['userId'], ratings25m['movieId']]).T\n",
    "Y = np.array(ratings25m['rating'])\n"
   ]
  },
  {
   "cell_type": "code",
   "execution_count": 5,
   "metadata": {},
   "outputs": [],
   "source": [
    "X_train, X_test, y_train, y_test = train_test_split(X,Y, test_size = 0.2, stratify=X[:,0])"
   ]
  },
  {
   "cell_type": "code",
   "execution_count": 6,
   "metadata": {},
   "outputs": [],
   "source": [
    "mf_25m = MFsgd(random_state=42,n_epoch=1, latent_features=30,learning_rate=0.01,regularization=0.1,verbose=True)"
   ]
  },
  {
   "cell_type": "code",
   "execution_count": 7,
   "metadata": {},
   "outputs": [
    {
     "name": "stdout",
     "output_type": "stream",
     "text": [
      "Training epoch... (1/1)\n"
     ]
    }
   ],
   "source": [
    "mf_25m.fit(X_train,y_train)"
   ]
  },
  {
   "cell_type": "code",
   "execution_count": 8,
   "metadata": {
    "collapsed": true,
    "jupyter": {
     "outputs_hidden": true
    }
   },
   "outputs": [
    {
     "ename": "NameError",
     "evalue": "name 'mf' is not defined",
     "output_type": "error",
     "traceback": [
      "\u001b[0;31m---------------------------------------------------------------------------\u001b[0m",
      "\u001b[0;31mNameError\u001b[0m                                 Traceback (most recent call last)",
      "\u001b[0;32m<ipython-input-8-c198ed0e5dc3>\u001b[0m in \u001b[0;36m<module>\u001b[0;34m\u001b[0m\n\u001b[0;32m----> 1\u001b[0;31m \u001b[0mmf_25m\u001b[0m\u001b[0;34m.\u001b[0m\u001b[0mcalc_error\u001b[0m\u001b[0;34m(\u001b[0m\u001b[0mX_test\u001b[0m\u001b[0;34m,\u001b[0m\u001b[0my_test\u001b[0m\u001b[0;34m)\u001b[0m\u001b[0;34m\u001b[0m\u001b[0;34m\u001b[0m\u001b[0m\n\u001b[0m",
      "\u001b[0;32m<ipython-input-3-3d270380ff7d>\u001b[0m in \u001b[0;36mcalc_error\u001b[0;34m(self, X, Y)\u001b[0m\n\u001b[1;32m     36\u001b[0m     \u001b[0;32mdef\u001b[0m \u001b[0mcalc_error\u001b[0m\u001b[0;34m(\u001b[0m\u001b[0mself\u001b[0m\u001b[0;34m,\u001b[0m\u001b[0mX\u001b[0m\u001b[0;34m,\u001b[0m\u001b[0mY\u001b[0m\u001b[0;34m)\u001b[0m\u001b[0;34m:\u001b[0m\u001b[0;34m\u001b[0m\u001b[0;34m\u001b[0m\u001b[0m\n\u001b[1;32m     37\u001b[0m         \u001b[0msize\u001b[0m \u001b[0;34m=\u001b[0m \u001b[0mX\u001b[0m\u001b[0;34m[\u001b[0m\u001b[0;34m:\u001b[0m\u001b[0;34m,\u001b[0m\u001b[0;36m0\u001b[0m\u001b[0;34m]\u001b[0m\u001b[0;34m.\u001b[0m\u001b[0mshape\u001b[0m\u001b[0;34m[\u001b[0m\u001b[0;36m0\u001b[0m\u001b[0;34m]\u001b[0m\u001b[0;34m\u001b[0m\u001b[0;34m\u001b[0m\u001b[0m\n\u001b[0;32m---> 38\u001b[0;31m         \u001b[0mse\u001b[0m \u001b[0;34m=\u001b[0m \u001b[0mnp\u001b[0m\u001b[0;34m.\u001b[0m\u001b[0msum\u001b[0m\u001b[0;34m(\u001b[0m\u001b[0mnp\u001b[0m\u001b[0;34m.\u001b[0m\u001b[0msquare\u001b[0m\u001b[0;34m(\u001b[0m\u001b[0mY\u001b[0m \u001b[0;34m-\u001b[0m \u001b[0mself\u001b[0m\u001b[0;34m.\u001b[0m\u001b[0mtransform\u001b[0m\u001b[0;34m(\u001b[0m\u001b[0mX\u001b[0m\u001b[0;34m)\u001b[0m\u001b[0;34m)\u001b[0m\u001b[0;34m)\u001b[0m\u001b[0;34m\u001b[0m\u001b[0;34m\u001b[0m\u001b[0m\n\u001b[0m\u001b[1;32m     39\u001b[0m         \u001b[0mmse\u001b[0m \u001b[0;34m=\u001b[0m \u001b[0mse\u001b[0m\u001b[0;34m/\u001b[0m\u001b[0msize\u001b[0m\u001b[0;34m\u001b[0m\u001b[0;34m\u001b[0m\u001b[0m\n\u001b[1;32m     40\u001b[0m         \u001b[0mrmse\u001b[0m \u001b[0;34m=\u001b[0m \u001b[0mnp\u001b[0m\u001b[0;34m.\u001b[0m\u001b[0msqrt\u001b[0m\u001b[0;34m(\u001b[0m\u001b[0mmse\u001b[0m\u001b[0;34m)\u001b[0m\u001b[0;34m\u001b[0m\u001b[0;34m\u001b[0m\u001b[0m\n",
      "\u001b[0;32m<ipython-input-3-3d270380ff7d>\u001b[0m in \u001b[0;36mtransform\u001b[0;34m(self, X)\u001b[0m\n\u001b[1;32m     31\u001b[0m             \u001b[0muser\u001b[0m \u001b[0;34m=\u001b[0m \u001b[0mX\u001b[0m\u001b[0;34m[\u001b[0m\u001b[0melem\u001b[0m\u001b[0;34m,\u001b[0m\u001b[0;36m0\u001b[0m\u001b[0;34m]\u001b[0m\u001b[0;34m\u001b[0m\u001b[0;34m\u001b[0m\u001b[0m\n\u001b[1;32m     32\u001b[0m             \u001b[0mmovie\u001b[0m \u001b[0;34m=\u001b[0m \u001b[0mX\u001b[0m\u001b[0;34m[\u001b[0m\u001b[0melem\u001b[0m\u001b[0;34m,\u001b[0m\u001b[0;36m1\u001b[0m\u001b[0;34m]\u001b[0m\u001b[0;34m\u001b[0m\u001b[0;34m\u001b[0m\u001b[0m\n\u001b[0;32m---> 33\u001b[0;31m             \u001b[0my_hat\u001b[0m\u001b[0;34m[\u001b[0m\u001b[0melem\u001b[0m\u001b[0;34m]\u001b[0m \u001b[0;34m=\u001b[0m \u001b[0mmf\u001b[0m\u001b[0;34m.\u001b[0m\u001b[0mpredict_rating\u001b[0m\u001b[0;34m(\u001b[0m\u001b[0muser\u001b[0m\u001b[0;34m,\u001b[0m\u001b[0mmovie\u001b[0m\u001b[0;34m)\u001b[0m\u001b[0;34m\u001b[0m\u001b[0;34m\u001b[0m\u001b[0m\n\u001b[0m\u001b[1;32m     34\u001b[0m         \u001b[0;32mreturn\u001b[0m \u001b[0my_hat\u001b[0m\u001b[0;34m\u001b[0m\u001b[0;34m\u001b[0m\u001b[0m\n\u001b[1;32m     35\u001b[0m \u001b[0;34m\u001b[0m\u001b[0m\n",
      "\u001b[0;31mNameError\u001b[0m: name 'mf' is not defined"
     ]
    }
   ],
   "source": [
    "mf_25m.calc_error(X_test,y_test)"
   ]
  },
  {
   "cell_type": "code",
   "execution_count": null,
   "metadata": {},
   "outputs": [],
   "source": []
  }
 ],
 "metadata": {
  "kernelspec": {
   "display_name": "Python 3",
   "language": "python",
   "name": "python3"
  },
  "language_info": {
   "codemirror_mode": {
    "name": "ipython",
    "version": 3
   },
   "file_extension": ".py",
   "mimetype": "text/x-python",
   "name": "python",
   "nbconvert_exporter": "python",
   "pygments_lexer": "ipython3",
   "version": "3.8.5"
  }
 },
 "nbformat": 4,
 "nbformat_minor": 4
}
