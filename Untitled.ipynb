{
 "cells": [
  {
   "cell_type": "markdown",
   "metadata": {},
   "source": [
    "## Data Analysis"
   ]
  },
  {
   "cell_type": "code",
   "execution_count": 126,
   "metadata": {},
   "outputs": [],
   "source": [
    "import pandas as pd\n",
    "import matplotlib.pyplot as plt\n",
    "import numpy as np\n",
    "\n",
    "movies = pd.read_csv(\"data/movies.csv\")\n",
    "ratings = pd.read_csv(\"data/ratings.csv\")"
   ]
  },
  {
   "cell_type": "code",
   "execution_count": 127,
   "metadata": {},
   "outputs": [
    {
     "data": {
      "text/plain": [
       "(100836, 4)"
      ]
     },
     "execution_count": 127,
     "metadata": {},
     "output_type": "execute_result"
    }
   ],
   "source": [
    "ratings.shape"
   ]
  },
  {
   "cell_type": "code",
   "execution_count": 128,
   "metadata": {},
   "outputs": [
    {
     "data": {
      "text/html": [
       "<div>\n",
       "<style scoped>\n",
       "    .dataframe tbody tr th:only-of-type {\n",
       "        vertical-align: middle;\n",
       "    }\n",
       "\n",
       "    .dataframe tbody tr th {\n",
       "        vertical-align: top;\n",
       "    }\n",
       "\n",
       "    .dataframe thead th {\n",
       "        text-align: right;\n",
       "    }\n",
       "</style>\n",
       "<table border=\"1\" class=\"dataframe\">\n",
       "  <thead>\n",
       "    <tr style=\"text-align: right;\">\n",
       "      <th></th>\n",
       "      <th>movieId</th>\n",
       "      <th>title</th>\n",
       "      <th>genres</th>\n",
       "    </tr>\n",
       "  </thead>\n",
       "  <tbody>\n",
       "    <tr>\n",
       "      <th>0</th>\n",
       "      <td>1</td>\n",
       "      <td>Toy Story (1995)</td>\n",
       "      <td>Adventure|Animation|Children|Comedy|Fantasy</td>\n",
       "    </tr>\n",
       "    <tr>\n",
       "      <th>1</th>\n",
       "      <td>2</td>\n",
       "      <td>Jumanji (1995)</td>\n",
       "      <td>Adventure|Children|Fantasy</td>\n",
       "    </tr>\n",
       "    <tr>\n",
       "      <th>2</th>\n",
       "      <td>3</td>\n",
       "      <td>Grumpier Old Men (1995)</td>\n",
       "      <td>Comedy|Romance</td>\n",
       "    </tr>\n",
       "    <tr>\n",
       "      <th>3</th>\n",
       "      <td>4</td>\n",
       "      <td>Waiting to Exhale (1995)</td>\n",
       "      <td>Comedy|Drama|Romance</td>\n",
       "    </tr>\n",
       "    <tr>\n",
       "      <th>4</th>\n",
       "      <td>5</td>\n",
       "      <td>Father of the Bride Part II (1995)</td>\n",
       "      <td>Comedy</td>\n",
       "    </tr>\n",
       "    <tr>\n",
       "      <th>...</th>\n",
       "      <td>...</td>\n",
       "      <td>...</td>\n",
       "      <td>...</td>\n",
       "    </tr>\n",
       "    <tr>\n",
       "      <th>9737</th>\n",
       "      <td>193581</td>\n",
       "      <td>Black Butler: Book of the Atlantic (2017)</td>\n",
       "      <td>Action|Animation|Comedy|Fantasy</td>\n",
       "    </tr>\n",
       "    <tr>\n",
       "      <th>9738</th>\n",
       "      <td>193583</td>\n",
       "      <td>No Game No Life: Zero (2017)</td>\n",
       "      <td>Animation|Comedy|Fantasy</td>\n",
       "    </tr>\n",
       "    <tr>\n",
       "      <th>9739</th>\n",
       "      <td>193585</td>\n",
       "      <td>Flint (2017)</td>\n",
       "      <td>Drama</td>\n",
       "    </tr>\n",
       "    <tr>\n",
       "      <th>9740</th>\n",
       "      <td>193587</td>\n",
       "      <td>Bungo Stray Dogs: Dead Apple (2018)</td>\n",
       "      <td>Action|Animation</td>\n",
       "    </tr>\n",
       "    <tr>\n",
       "      <th>9741</th>\n",
       "      <td>193609</td>\n",
       "      <td>Andrew Dice Clay: Dice Rules (1991)</td>\n",
       "      <td>Comedy</td>\n",
       "    </tr>\n",
       "  </tbody>\n",
       "</table>\n",
       "<p>9742 rows × 3 columns</p>\n",
       "</div>"
      ],
      "text/plain": [
       "      movieId                                      title  \\\n",
       "0           1                           Toy Story (1995)   \n",
       "1           2                             Jumanji (1995)   \n",
       "2           3                    Grumpier Old Men (1995)   \n",
       "3           4                   Waiting to Exhale (1995)   \n",
       "4           5         Father of the Bride Part II (1995)   \n",
       "...       ...                                        ...   \n",
       "9737   193581  Black Butler: Book of the Atlantic (2017)   \n",
       "9738   193583               No Game No Life: Zero (2017)   \n",
       "9739   193585                               Flint (2017)   \n",
       "9740   193587        Bungo Stray Dogs: Dead Apple (2018)   \n",
       "9741   193609        Andrew Dice Clay: Dice Rules (1991)   \n",
       "\n",
       "                                           genres  \n",
       "0     Adventure|Animation|Children|Comedy|Fantasy  \n",
       "1                      Adventure|Children|Fantasy  \n",
       "2                                  Comedy|Romance  \n",
       "3                            Comedy|Drama|Romance  \n",
       "4                                          Comedy  \n",
       "...                                           ...  \n",
       "9737              Action|Animation|Comedy|Fantasy  \n",
       "9738                     Animation|Comedy|Fantasy  \n",
       "9739                                        Drama  \n",
       "9740                             Action|Animation  \n",
       "9741                                       Comedy  \n",
       "\n",
       "[9742 rows x 3 columns]"
      ]
     },
     "execution_count": 128,
     "metadata": {},
     "output_type": "execute_result"
    }
   ],
   "source": [
    "movies"
   ]
  },
  {
   "cell_type": "markdown",
   "metadata": {},
   "source": [
    "Given that we are working with a reduced version of a dataset, we can see that movieId and userId does not match our indexes (there are skipped movies and users). This is not very convenient so let's change that. We are gonna create a transformation dictionary and apply it to both the movie and user dataframe"
   ]
  },
  {
   "cell_type": "code",
   "execution_count": 129,
   "metadata": {},
   "outputs": [],
   "source": [
    "ratings.userId = ratings.userId.astype('category').cat.codes.values\n",
    "ratings.movieId = ratings.movieId.astype('category').cat.codes.values"
   ]
  },
  {
   "cell_type": "code",
   "execution_count": 130,
   "metadata": {},
   "outputs": [
    {
     "data": {
      "text/html": [
       "<div>\n",
       "<style scoped>\n",
       "    .dataframe tbody tr th:only-of-type {\n",
       "        vertical-align: middle;\n",
       "    }\n",
       "\n",
       "    .dataframe tbody tr th {\n",
       "        vertical-align: top;\n",
       "    }\n",
       "\n",
       "    .dataframe thead th {\n",
       "        text-align: right;\n",
       "    }\n",
       "</style>\n",
       "<table border=\"1\" class=\"dataframe\">\n",
       "  <thead>\n",
       "    <tr style=\"text-align: right;\">\n",
       "      <th></th>\n",
       "      <th>userId</th>\n",
       "      <th>movieId</th>\n",
       "      <th>rating</th>\n",
       "      <th>timestamp</th>\n",
       "    </tr>\n",
       "  </thead>\n",
       "  <tbody>\n",
       "    <tr>\n",
       "      <th>0</th>\n",
       "      <td>0</td>\n",
       "      <td>0</td>\n",
       "      <td>4.0</td>\n",
       "      <td>964982703</td>\n",
       "    </tr>\n",
       "    <tr>\n",
       "      <th>1</th>\n",
       "      <td>0</td>\n",
       "      <td>2</td>\n",
       "      <td>4.0</td>\n",
       "      <td>964981247</td>\n",
       "    </tr>\n",
       "    <tr>\n",
       "      <th>2</th>\n",
       "      <td>0</td>\n",
       "      <td>5</td>\n",
       "      <td>4.0</td>\n",
       "      <td>964982224</td>\n",
       "    </tr>\n",
       "    <tr>\n",
       "      <th>3</th>\n",
       "      <td>0</td>\n",
       "      <td>43</td>\n",
       "      <td>5.0</td>\n",
       "      <td>964983815</td>\n",
       "    </tr>\n",
       "    <tr>\n",
       "      <th>4</th>\n",
       "      <td>0</td>\n",
       "      <td>46</td>\n",
       "      <td>5.0</td>\n",
       "      <td>964982931</td>\n",
       "    </tr>\n",
       "    <tr>\n",
       "      <th>...</th>\n",
       "      <td>...</td>\n",
       "      <td>...</td>\n",
       "      <td>...</td>\n",
       "      <td>...</td>\n",
       "    </tr>\n",
       "    <tr>\n",
       "      <th>100831</th>\n",
       "      <td>609</td>\n",
       "      <td>9416</td>\n",
       "      <td>4.0</td>\n",
       "      <td>1493848402</td>\n",
       "    </tr>\n",
       "    <tr>\n",
       "      <th>100832</th>\n",
       "      <td>609</td>\n",
       "      <td>9443</td>\n",
       "      <td>5.0</td>\n",
       "      <td>1493850091</td>\n",
       "    </tr>\n",
       "    <tr>\n",
       "      <th>100833</th>\n",
       "      <td>609</td>\n",
       "      <td>9444</td>\n",
       "      <td>5.0</td>\n",
       "      <td>1494273047</td>\n",
       "    </tr>\n",
       "    <tr>\n",
       "      <th>100834</th>\n",
       "      <td>609</td>\n",
       "      <td>9445</td>\n",
       "      <td>5.0</td>\n",
       "      <td>1493846352</td>\n",
       "    </tr>\n",
       "    <tr>\n",
       "      <th>100835</th>\n",
       "      <td>609</td>\n",
       "      <td>9485</td>\n",
       "      <td>3.0</td>\n",
       "      <td>1493846415</td>\n",
       "    </tr>\n",
       "  </tbody>\n",
       "</table>\n",
       "<p>100836 rows × 4 columns</p>\n",
       "</div>"
      ],
      "text/plain": [
       "        userId  movieId  rating   timestamp\n",
       "0            0        0     4.0   964982703\n",
       "1            0        2     4.0   964981247\n",
       "2            0        5     4.0   964982224\n",
       "3            0       43     5.0   964983815\n",
       "4            0       46     5.0   964982931\n",
       "...        ...      ...     ...         ...\n",
       "100831     609     9416     4.0  1493848402\n",
       "100832     609     9443     5.0  1493850091\n",
       "100833     609     9444     5.0  1494273047\n",
       "100834     609     9445     5.0  1493846352\n",
       "100835     609     9485     3.0  1493846415\n",
       "\n",
       "[100836 rows x 4 columns]"
      ]
     },
     "execution_count": 130,
     "metadata": {},
     "output_type": "execute_result"
    }
   ],
   "source": [
    "ratings"
   ]
  },
  {
   "cell_type": "markdown",
   "metadata": {},
   "source": [
    "## Item-Based Recommender - Matrix Factorization"
   ]
  },
  {
   "cell_type": "markdown",
   "metadata": {},
   "source": [
    "First step is to create our utility matrix, where each row is an user instance and each column a movie"
   ]
  },
  {
   "cell_type": "code",
   "execution_count": 131,
   "metadata": {},
   "outputs": [],
   "source": [
    "R = pd.pivot_table(data=ratings,values='rating',index='userId', columns='movieId')"
   ]
  },
  {
   "cell_type": "code",
   "execution_count": 132,
   "metadata": {},
   "outputs": [
    {
     "data": {
      "text/html": [
       "<div>\n",
       "<style scoped>\n",
       "    .dataframe tbody tr th:only-of-type {\n",
       "        vertical-align: middle;\n",
       "    }\n",
       "\n",
       "    .dataframe tbody tr th {\n",
       "        vertical-align: top;\n",
       "    }\n",
       "\n",
       "    .dataframe thead th {\n",
       "        text-align: right;\n",
       "    }\n",
       "</style>\n",
       "<table border=\"1\" class=\"dataframe\">\n",
       "  <thead>\n",
       "    <tr style=\"text-align: right;\">\n",
       "      <th>movieId</th>\n",
       "      <th>0</th>\n",
       "      <th>1</th>\n",
       "      <th>2</th>\n",
       "      <th>3</th>\n",
       "      <th>4</th>\n",
       "      <th>5</th>\n",
       "      <th>6</th>\n",
       "      <th>7</th>\n",
       "      <th>8</th>\n",
       "      <th>9</th>\n",
       "      <th>...</th>\n",
       "      <th>9714</th>\n",
       "      <th>9715</th>\n",
       "      <th>9716</th>\n",
       "      <th>9717</th>\n",
       "      <th>9718</th>\n",
       "      <th>9719</th>\n",
       "      <th>9720</th>\n",
       "      <th>9721</th>\n",
       "      <th>9722</th>\n",
       "      <th>9723</th>\n",
       "    </tr>\n",
       "    <tr>\n",
       "      <th>userId</th>\n",
       "      <th></th>\n",
       "      <th></th>\n",
       "      <th></th>\n",
       "      <th></th>\n",
       "      <th></th>\n",
       "      <th></th>\n",
       "      <th></th>\n",
       "      <th></th>\n",
       "      <th></th>\n",
       "      <th></th>\n",
       "      <th></th>\n",
       "      <th></th>\n",
       "      <th></th>\n",
       "      <th></th>\n",
       "      <th></th>\n",
       "      <th></th>\n",
       "      <th></th>\n",
       "      <th></th>\n",
       "      <th></th>\n",
       "      <th></th>\n",
       "      <th></th>\n",
       "    </tr>\n",
       "  </thead>\n",
       "  <tbody>\n",
       "    <tr>\n",
       "      <th>0</th>\n",
       "      <td>4.0</td>\n",
       "      <td>NaN</td>\n",
       "      <td>4.0</td>\n",
       "      <td>NaN</td>\n",
       "      <td>NaN</td>\n",
       "      <td>4.0</td>\n",
       "      <td>NaN</td>\n",
       "      <td>NaN</td>\n",
       "      <td>NaN</td>\n",
       "      <td>NaN</td>\n",
       "      <td>...</td>\n",
       "      <td>NaN</td>\n",
       "      <td>NaN</td>\n",
       "      <td>NaN</td>\n",
       "      <td>NaN</td>\n",
       "      <td>NaN</td>\n",
       "      <td>NaN</td>\n",
       "      <td>NaN</td>\n",
       "      <td>NaN</td>\n",
       "      <td>NaN</td>\n",
       "      <td>NaN</td>\n",
       "    </tr>\n",
       "    <tr>\n",
       "      <th>1</th>\n",
       "      <td>NaN</td>\n",
       "      <td>NaN</td>\n",
       "      <td>NaN</td>\n",
       "      <td>NaN</td>\n",
       "      <td>NaN</td>\n",
       "      <td>NaN</td>\n",
       "      <td>NaN</td>\n",
       "      <td>NaN</td>\n",
       "      <td>NaN</td>\n",
       "      <td>NaN</td>\n",
       "      <td>...</td>\n",
       "      <td>NaN</td>\n",
       "      <td>NaN</td>\n",
       "      <td>NaN</td>\n",
       "      <td>NaN</td>\n",
       "      <td>NaN</td>\n",
       "      <td>NaN</td>\n",
       "      <td>NaN</td>\n",
       "      <td>NaN</td>\n",
       "      <td>NaN</td>\n",
       "      <td>NaN</td>\n",
       "    </tr>\n",
       "    <tr>\n",
       "      <th>2</th>\n",
       "      <td>NaN</td>\n",
       "      <td>NaN</td>\n",
       "      <td>NaN</td>\n",
       "      <td>NaN</td>\n",
       "      <td>NaN</td>\n",
       "      <td>NaN</td>\n",
       "      <td>NaN</td>\n",
       "      <td>NaN</td>\n",
       "      <td>NaN</td>\n",
       "      <td>NaN</td>\n",
       "      <td>...</td>\n",
       "      <td>NaN</td>\n",
       "      <td>NaN</td>\n",
       "      <td>NaN</td>\n",
       "      <td>NaN</td>\n",
       "      <td>NaN</td>\n",
       "      <td>NaN</td>\n",
       "      <td>NaN</td>\n",
       "      <td>NaN</td>\n",
       "      <td>NaN</td>\n",
       "      <td>NaN</td>\n",
       "    </tr>\n",
       "    <tr>\n",
       "      <th>3</th>\n",
       "      <td>NaN</td>\n",
       "      <td>NaN</td>\n",
       "      <td>NaN</td>\n",
       "      <td>NaN</td>\n",
       "      <td>NaN</td>\n",
       "      <td>NaN</td>\n",
       "      <td>NaN</td>\n",
       "      <td>NaN</td>\n",
       "      <td>NaN</td>\n",
       "      <td>NaN</td>\n",
       "      <td>...</td>\n",
       "      <td>NaN</td>\n",
       "      <td>NaN</td>\n",
       "      <td>NaN</td>\n",
       "      <td>NaN</td>\n",
       "      <td>NaN</td>\n",
       "      <td>NaN</td>\n",
       "      <td>NaN</td>\n",
       "      <td>NaN</td>\n",
       "      <td>NaN</td>\n",
       "      <td>NaN</td>\n",
       "    </tr>\n",
       "    <tr>\n",
       "      <th>4</th>\n",
       "      <td>4.0</td>\n",
       "      <td>NaN</td>\n",
       "      <td>NaN</td>\n",
       "      <td>NaN</td>\n",
       "      <td>NaN</td>\n",
       "      <td>NaN</td>\n",
       "      <td>NaN</td>\n",
       "      <td>NaN</td>\n",
       "      <td>NaN</td>\n",
       "      <td>NaN</td>\n",
       "      <td>...</td>\n",
       "      <td>NaN</td>\n",
       "      <td>NaN</td>\n",
       "      <td>NaN</td>\n",
       "      <td>NaN</td>\n",
       "      <td>NaN</td>\n",
       "      <td>NaN</td>\n",
       "      <td>NaN</td>\n",
       "      <td>NaN</td>\n",
       "      <td>NaN</td>\n",
       "      <td>NaN</td>\n",
       "    </tr>\n",
       "    <tr>\n",
       "      <th>...</th>\n",
       "      <td>...</td>\n",
       "      <td>...</td>\n",
       "      <td>...</td>\n",
       "      <td>...</td>\n",
       "      <td>...</td>\n",
       "      <td>...</td>\n",
       "      <td>...</td>\n",
       "      <td>...</td>\n",
       "      <td>...</td>\n",
       "      <td>...</td>\n",
       "      <td>...</td>\n",
       "      <td>...</td>\n",
       "      <td>...</td>\n",
       "      <td>...</td>\n",
       "      <td>...</td>\n",
       "      <td>...</td>\n",
       "      <td>...</td>\n",
       "      <td>...</td>\n",
       "      <td>...</td>\n",
       "      <td>...</td>\n",
       "      <td>...</td>\n",
       "    </tr>\n",
       "    <tr>\n",
       "      <th>605</th>\n",
       "      <td>2.5</td>\n",
       "      <td>NaN</td>\n",
       "      <td>NaN</td>\n",
       "      <td>NaN</td>\n",
       "      <td>NaN</td>\n",
       "      <td>NaN</td>\n",
       "      <td>2.5</td>\n",
       "      <td>NaN</td>\n",
       "      <td>NaN</td>\n",
       "      <td>NaN</td>\n",
       "      <td>...</td>\n",
       "      <td>NaN</td>\n",
       "      <td>NaN</td>\n",
       "      <td>NaN</td>\n",
       "      <td>NaN</td>\n",
       "      <td>NaN</td>\n",
       "      <td>NaN</td>\n",
       "      <td>NaN</td>\n",
       "      <td>NaN</td>\n",
       "      <td>NaN</td>\n",
       "      <td>NaN</td>\n",
       "    </tr>\n",
       "    <tr>\n",
       "      <th>606</th>\n",
       "      <td>4.0</td>\n",
       "      <td>NaN</td>\n",
       "      <td>NaN</td>\n",
       "      <td>NaN</td>\n",
       "      <td>NaN</td>\n",
       "      <td>NaN</td>\n",
       "      <td>NaN</td>\n",
       "      <td>NaN</td>\n",
       "      <td>NaN</td>\n",
       "      <td>NaN</td>\n",
       "      <td>...</td>\n",
       "      <td>NaN</td>\n",
       "      <td>NaN</td>\n",
       "      <td>NaN</td>\n",
       "      <td>NaN</td>\n",
       "      <td>NaN</td>\n",
       "      <td>NaN</td>\n",
       "      <td>NaN</td>\n",
       "      <td>NaN</td>\n",
       "      <td>NaN</td>\n",
       "      <td>NaN</td>\n",
       "    </tr>\n",
       "    <tr>\n",
       "      <th>607</th>\n",
       "      <td>2.5</td>\n",
       "      <td>2.0</td>\n",
       "      <td>2.0</td>\n",
       "      <td>NaN</td>\n",
       "      <td>NaN</td>\n",
       "      <td>NaN</td>\n",
       "      <td>NaN</td>\n",
       "      <td>NaN</td>\n",
       "      <td>NaN</td>\n",
       "      <td>4.0</td>\n",
       "      <td>...</td>\n",
       "      <td>NaN</td>\n",
       "      <td>NaN</td>\n",
       "      <td>NaN</td>\n",
       "      <td>NaN</td>\n",
       "      <td>NaN</td>\n",
       "      <td>NaN</td>\n",
       "      <td>NaN</td>\n",
       "      <td>NaN</td>\n",
       "      <td>NaN</td>\n",
       "      <td>NaN</td>\n",
       "    </tr>\n",
       "    <tr>\n",
       "      <th>608</th>\n",
       "      <td>3.0</td>\n",
       "      <td>NaN</td>\n",
       "      <td>NaN</td>\n",
       "      <td>NaN</td>\n",
       "      <td>NaN</td>\n",
       "      <td>NaN</td>\n",
       "      <td>NaN</td>\n",
       "      <td>NaN</td>\n",
       "      <td>NaN</td>\n",
       "      <td>4.0</td>\n",
       "      <td>...</td>\n",
       "      <td>NaN</td>\n",
       "      <td>NaN</td>\n",
       "      <td>NaN</td>\n",
       "      <td>NaN</td>\n",
       "      <td>NaN</td>\n",
       "      <td>NaN</td>\n",
       "      <td>NaN</td>\n",
       "      <td>NaN</td>\n",
       "      <td>NaN</td>\n",
       "      <td>NaN</td>\n",
       "    </tr>\n",
       "    <tr>\n",
       "      <th>609</th>\n",
       "      <td>5.0</td>\n",
       "      <td>NaN</td>\n",
       "      <td>NaN</td>\n",
       "      <td>NaN</td>\n",
       "      <td>NaN</td>\n",
       "      <td>5.0</td>\n",
       "      <td>NaN</td>\n",
       "      <td>NaN</td>\n",
       "      <td>NaN</td>\n",
       "      <td>NaN</td>\n",
       "      <td>...</td>\n",
       "      <td>NaN</td>\n",
       "      <td>NaN</td>\n",
       "      <td>NaN</td>\n",
       "      <td>NaN</td>\n",
       "      <td>NaN</td>\n",
       "      <td>NaN</td>\n",
       "      <td>NaN</td>\n",
       "      <td>NaN</td>\n",
       "      <td>NaN</td>\n",
       "      <td>NaN</td>\n",
       "    </tr>\n",
       "  </tbody>\n",
       "</table>\n",
       "<p>610 rows × 9724 columns</p>\n",
       "</div>"
      ],
      "text/plain": [
       "movieId  0     1     2     3     4     5     6     7     8     9     ...  \\\n",
       "userId                                                               ...   \n",
       "0         4.0   NaN   4.0   NaN   NaN   4.0   NaN   NaN   NaN   NaN  ...   \n",
       "1         NaN   NaN   NaN   NaN   NaN   NaN   NaN   NaN   NaN   NaN  ...   \n",
       "2         NaN   NaN   NaN   NaN   NaN   NaN   NaN   NaN   NaN   NaN  ...   \n",
       "3         NaN   NaN   NaN   NaN   NaN   NaN   NaN   NaN   NaN   NaN  ...   \n",
       "4         4.0   NaN   NaN   NaN   NaN   NaN   NaN   NaN   NaN   NaN  ...   \n",
       "...       ...   ...   ...   ...   ...   ...   ...   ...   ...   ...  ...   \n",
       "605       2.5   NaN   NaN   NaN   NaN   NaN   2.5   NaN   NaN   NaN  ...   \n",
       "606       4.0   NaN   NaN   NaN   NaN   NaN   NaN   NaN   NaN   NaN  ...   \n",
       "607       2.5   2.0   2.0   NaN   NaN   NaN   NaN   NaN   NaN   4.0  ...   \n",
       "608       3.0   NaN   NaN   NaN   NaN   NaN   NaN   NaN   NaN   4.0  ...   \n",
       "609       5.0   NaN   NaN   NaN   NaN   5.0   NaN   NaN   NaN   NaN  ...   \n",
       "\n",
       "movieId  9714  9715  9716  9717  9718  9719  9720  9721  9722  9723  \n",
       "userId                                                               \n",
       "0         NaN   NaN   NaN   NaN   NaN   NaN   NaN   NaN   NaN   NaN  \n",
       "1         NaN   NaN   NaN   NaN   NaN   NaN   NaN   NaN   NaN   NaN  \n",
       "2         NaN   NaN   NaN   NaN   NaN   NaN   NaN   NaN   NaN   NaN  \n",
       "3         NaN   NaN   NaN   NaN   NaN   NaN   NaN   NaN   NaN   NaN  \n",
       "4         NaN   NaN   NaN   NaN   NaN   NaN   NaN   NaN   NaN   NaN  \n",
       "...       ...   ...   ...   ...   ...   ...   ...   ...   ...   ...  \n",
       "605       NaN   NaN   NaN   NaN   NaN   NaN   NaN   NaN   NaN   NaN  \n",
       "606       NaN   NaN   NaN   NaN   NaN   NaN   NaN   NaN   NaN   NaN  \n",
       "607       NaN   NaN   NaN   NaN   NaN   NaN   NaN   NaN   NaN   NaN  \n",
       "608       NaN   NaN   NaN   NaN   NaN   NaN   NaN   NaN   NaN   NaN  \n",
       "609       NaN   NaN   NaN   NaN   NaN   NaN   NaN   NaN   NaN   NaN  \n",
       "\n",
       "[610 rows x 9724 columns]"
      ]
     },
     "execution_count": 132,
     "metadata": {},
     "output_type": "execute_result"
    }
   ],
   "source": [
    "R"
   ]
  },
  {
   "cell_type": "code",
   "execution_count": 8,
   "metadata": {},
   "outputs": [],
   "source": [
    "R = np.array(R)"
   ]
  },
  {
   "cell_type": "markdown",
   "metadata": {},
   "source": [
    "As we know, our ratings go from X to . So in order to help solve a future cold start problem, it is convenient to perform mean normalization to the matrix. We will use scikit-learn for convenience, but it can be done manually with ease. NOTE WE END UP USING STANDARD SCALER"
   ]
  },
  {
   "cell_type": "code",
   "execution_count": 9,
   "metadata": {},
   "outputs": [],
   "source": [
    "# from sklearn.preprocessing import StandardScaler\n",
    "\n",
    "# std_scaler = StandardScaler()\n",
    "# df_std = std_scaler.fit_transform(df)\n",
    "# df_std"
   ]
  },
  {
   "cell_type": "markdown",
   "metadata": {},
   "source": [
    "Our objetive is for our recommender to learn a set of features for the movies (x0,x1,..,xk) and a set of weights for each user (theta0,...,thetak) that represents their preference for each of the features x each movie has.  For a certain user i the dot product x(i,k)*theta(i) should give us a the predicted rating r(i,k) our user would assign to movie k.\n",
    "\n",
    "Therefore for all users and movies our problem can be translated to finding two matrices X,Theta containing the movie features and user preferences such that X*Theta=R with R our user-rating matrix. This is called Matrix Factorization and how we approach it will greatly impact the scalability and speed of our Recommender."
   ]
  },
  {
   "cell_type": "markdown",
   "metadata": {},
   "source": [
    "## Stochastic Gradient Descent"
   ]
  },
  {
   "cell_type": "markdown",
   "metadata": {},
   "source": [
    "Let's start by splitting the training, validation and test set"
   ]
  },
  {
   "cell_type": "markdown",
   "metadata": {},
   "source": [
    "Now let's initialize our matrices randomly"
   ]
  },
  {
   "cell_type": "code",
   "execution_count": null,
   "metadata": {},
   "outputs": [],
   "source": [
    "k = 20\n",
    "n = R.shape[0]\n",
    "m = R.shape[1]"
   ]
  },
  {
   "cell_type": "markdown",
   "metadata": {},
   "source": [
    "First, we will create a list of the indices for the pairs user-rating that are non-null"
   ]
  },
  {
   "cell_type": "code",
   "execution_count": 12,
   "metadata": {},
   "outputs": [],
   "source": [
    "users, items = (~np.isnan(R)*1).nonzero()"
   ]
  },
  {
   "cell_type": "markdown",
   "metadata": {},
   "source": [
    "This will allow us to create a training and test set were we have eliminated certain ratings from the training set so that we can test our algorithm"
   ]
  },
  {
   "cell_type": "code",
   "execution_count": 13,
   "metadata": {},
   "outputs": [],
   "source": [
    "test_percent = 0.3\n",
    "test_size= int(n*test_percent)\n",
    "test_index = np.random.randint(low=0, high=users.shape[0],size=test_size, dtype=int)"
   ]
  },
  {
   "cell_type": "code",
   "execution_count": 14,
   "metadata": {},
   "outputs": [
    {
     "data": {
      "text/plain": [
       "array([ 50460,  84914,  94452,  10226,  68983,  11941,  75179,  99743,\n",
       "         7221,  98638,  65201,  42629,  61223,  98387,  41480,  99855,\n",
       "        55920,   1048,  80742,  16098,  86048,  19232,  39606,  84657,\n",
       "        33738,   2911,   9778,  30111,  94582,  70869,  28183, 100715,\n",
       "        45100,  75780,  27403,   5383,  24982,  83807,  73322,  62449,\n",
       "        92085,  13443,  47297,  50824,  47513,  81178,  49950,  98989,\n",
       "        57136,  22935,  39897,  64328,  25031,  59045,  45692,  71434,\n",
       "         1480,  87204,  88331,  76178,  24178,   4138,  94283,  64466,\n",
       "        51171,  11168,  96478,  39376,  53693,  95044,  18895,  73224,\n",
       "        25886,   8352,  85447,  45287,   2864,  14212,   8331,  79775,\n",
       "        18613,   6515,  98538,  98777,  38997,  74081,  67858,  91237,\n",
       "        81870,  10881,  87075,  12175,  50880,  27070,  87114,  39922,\n",
       "        41207,  95443,  86521,  17898,  16700,   2794,  14253,  24208,\n",
       "          525,  43612,   9220,  30830,  16125,   5941,  53165,  50049,\n",
       "         6883,   1119,  47516,  58246,  64938,  27711,  37279,  19473,\n",
       "        92308,  21871,  41083,  86331,  37221,   3957,  66932,  24571,\n",
       "        59573,   9117,   4671,  30572,  30334,  67834,  32587,   4226,\n",
       "        34922,  69763,  85573,   2286,   5593,  90742,  97515,  18103,\n",
       "        57505,  19480,  29674,  81403,  43767,  12275,   3482,  82989,\n",
       "        84747,  51189,  45097,  74062,  73832,  18838,  59906,  13488,\n",
       "        46355,  53542,  32760,  68831,  92307,  72113,  43946,  32693,\n",
       "        68907,  84402,  32032,  54978,  93282,  15561,  83772,  32444,\n",
       "        28937,  67959,   1130,  74659,  52128,  59775,  37725])"
      ]
     },
     "execution_count": 14,
     "metadata": {},
     "output_type": "execute_result"
    }
   ],
   "source": [
    "test_index"
   ]
  },
  {
   "cell_type": "code",
   "execution_count": 15,
   "metadata": {},
   "outputs": [
    {
     "data": {
      "text/plain": [
       "4.0"
      ]
     },
     "execution_count": 15,
     "metadata": {},
     "output_type": "execute_result"
    }
   ],
   "source": [
    "R[users[0],items[0]]"
   ]
  },
  {
   "cell_type": "code",
   "execution_count": 16,
   "metadata": {},
   "outputs": [],
   "source": [
    "R_train = np.copy(R)\n",
    "for r_index in test_index:\n",
    "    R_train[users[r_index],items[r_index]] = np.nan"
   ]
  },
  {
   "cell_type": "code",
   "execution_count": 17,
   "metadata": {},
   "outputs": [],
   "source": [
    "U = np.random.rand(n,k)\n",
    "M = np.random.rand(m,k)"
   ]
  },
  {
   "cell_type": "code",
   "execution_count": 18,
   "metadata": {},
   "outputs": [
    {
     "name": "stdout",
     "output_type": "stream",
     "text": [
      "U Matrix: (610, 20)\n",
      "M Matrix: (9724, 20)\n"
     ]
    }
   ],
   "source": [
    "print('U Matrix: {}'.format(U.shape))\n",
    "print('M Matrix: {}'.format(M.shape))"
   ]
  },
  {
   "cell_type": "code",
   "execution_count": 19,
   "metadata": {},
   "outputs": [],
   "source": [
    "lr = 0.001\n",
    "l=0.001\n",
    "n_epoch = 50\n",
    "\n",
    "for epoch in range(n_epoch):\n",
    "    \n",
    "    for user in range(R_train.shape[0]):\n",
    "        item_index = (~np.isnan(R_train[user,:])*1).nonzero()[0]\n",
    "        for movie in item_index:\n",
    "            err = R_train[user,movie] - np.dot(U[user],M[movie])\n",
    "            U[user] = U[user] + lr*(err*M[movie]-l*U[user])\n",
    "            M[movie] = M[movie] + lr*(err*U[user]-l*M[movie])\n",
    "              "
   ]
  },
  {
   "cell_type": "code",
   "execution_count": 20,
   "metadata": {},
   "outputs": [],
   "source": [
    "R_pred = U @ M.T"
   ]
  },
  {
   "cell_type": "markdown",
   "metadata": {},
   "source": [
    "Now let's test the error on the training set"
   ]
  },
  {
   "cell_type": "code",
   "execution_count": 21,
   "metadata": {},
   "outputs": [
    {
     "data": {
      "text/plain": [
       "0.8880269396656362"
      ]
     },
     "execution_count": 21,
     "metadata": {},
     "output_type": "execute_result"
    }
   ],
   "source": [
    "se=0\n",
    "for r_index in test_index: \n",
    "    se = se + (R[users[r_index],items[r_index]]  - R_pred[users[r_index],items[r_index]])**2\n",
    "    \n",
    "mse=se/test_size\n",
    "rmse = np.sqrt(mse)\n",
    "rmse"
   ]
  },
  {
   "cell_type": "code",
   "execution_count": 22,
   "metadata": {},
   "outputs": [
    {
     "data": {
      "text/plain": [
       "0.7885918455719154"
      ]
     },
     "execution_count": 22,
     "metadata": {},
     "output_type": "execute_result"
    }
   ],
   "source": [
    "mse"
   ]
  },
  {
   "cell_type": "code",
   "execution_count": 23,
   "metadata": {
    "collapsed": true,
    "jupyter": {
     "outputs_hidden": true
    }
   },
   "outputs": [
    {
     "name": "stdout",
     "output_type": "stream",
     "text": [
      "Original: 4.0  Predicted: 3.7\n",
      "Original: 4.0  Predicted: 4.4\n",
      "Original: 2.0  Predicted: 2.8\n",
      "Original: 3.5  Predicted: 3.6\n",
      "Original: 2.0  Predicted: 1.8\n",
      "Original: 5.0  Predicted: 3.8\n",
      "Original: 4.0  Predicted: 3.8\n",
      "Original: 5.0  Predicted: 4.3\n",
      "Original: 3.0  Predicted: 2.8\n",
      "Original: 2.0  Predicted: 3.5\n",
      "Original: 4.0  Predicted: 4.0\n",
      "Original: 3.5  Predicted: 3.5\n",
      "Original: 3.0  Predicted: 4.0\n",
      "Original: 4.0  Predicted: 3.4\n",
      "Original: 5.0  Predicted: 4.5\n",
      "Original: 5.0  Predicted: 4.1\n",
      "Original: 3.5  Predicted: 3.2\n",
      "Original: 3.0  Predicted: 3.4\n",
      "Original: 3.5  Predicted: 3.3\n",
      "Original: 2.5  Predicted: 2.9\n",
      "Original: 3.0  Predicted: 2.8\n",
      "Original: 4.0  Predicted: 3.1\n",
      "Original: 3.0  Predicted: 3.1\n",
      "Original: 2.0  Predicted: 4.2\n",
      "Original: 3.0  Predicted: 3.2\n",
      "Original: 3.0  Predicted: 2.7\n",
      "Original: 4.0  Predicted: 4.0\n",
      "Original: 2.0  Predicted: 3.5\n",
      "Original: 3.5  Predicted: 2.7\n",
      "Original: 4.0  Predicted: 3.5\n",
      "Original: 3.0  Predicted: 3.5\n",
      "Original: 2.5  Predicted: 3.4\n",
      "Original: 2.5  Predicted: 2.6\n",
      "Original: 4.0  Predicted: 3.6\n",
      "Original: 4.0  Predicted: 4.2\n",
      "Original: 3.0  Predicted: 3.6\n",
      "Original: 5.0  Predicted: 3.3\n",
      "Original: 4.0  Predicted: 4.0\n",
      "Original: 4.0  Predicted: 3.5\n",
      "Original: 3.0  Predicted: 3.7\n",
      "Original: 2.5  Predicted: 3.3\n",
      "Original: 4.0  Predicted: 3.8\n",
      "Original: 3.0  Predicted: 3.6\n",
      "Original: 4.0  Predicted: 2.8\n",
      "Original: 0.5  Predicted: 2.8\n",
      "Original: 2.0  Predicted: 1.9\n",
      "Original: 4.0  Predicted: 4.0\n",
      "Original: 2.5  Predicted: 2.9\n",
      "Original: 4.0  Predicted: 4.0\n",
      "Original: 2.5  Predicted: 3.5\n",
      "Original: 3.5  Predicted: 3.1\n",
      "Original: 5.0  Predicted: 3.8\n",
      "Original: 3.5  Predicted: 3.2\n",
      "Original: 5.0  Predicted: 3.9\n",
      "Original: 2.0  Predicted: 4.6\n",
      "Original: 5.0  Predicted: 3.7\n",
      "Original: 5.0  Predicted: 3.3\n",
      "Original: 4.0  Predicted: 3.3\n",
      "Original: 4.0  Predicted: 3.4\n",
      "Original: 3.0  Predicted: 3.8\n",
      "Original: 4.5  Predicted: 3.9\n",
      "Original: 4.0  Predicted: 2.9\n",
      "Original: 4.0  Predicted: 3.2\n",
      "Original: 3.0  Predicted: 2.9\n",
      "Original: 4.0  Predicted: 4.3\n",
      "Original: 2.5  Predicted: 3.1\n",
      "Original: 4.0  Predicted: 3.1\n",
      "Original: 2.0  Predicted: 3.5\n",
      "Original: 4.0  Predicted: 4.3\n",
      "Original: 3.0  Predicted: 3.8\n",
      "Original: 5.0  Predicted: 5.0\n",
      "Original: 3.5  Predicted: 3.2\n",
      "Original: 3.0  Predicted: 3.0\n",
      "Original: 5.0  Predicted: 3.5\n",
      "Original: 4.0  Predicted: 4.2\n",
      "Original: 2.5  Predicted: 2.5\n",
      "Original: 1.0  Predicted: 2.7\n",
      "Original: 3.0  Predicted: 3.2\n",
      "Original: 5.0  Predicted: 4.0\n",
      "Original: 4.0  Predicted: 3.9\n",
      "Original: 4.0  Predicted: 3.9\n",
      "Original: 4.0  Predicted: 3.9\n",
      "Original: 3.0  Predicted: 4.7\n",
      "Original: 0.5  Predicted: 2.0\n",
      "Original: 2.0  Predicted: 4.2\n",
      "Original: 3.5  Predicted: 2.9\n",
      "Original: 4.0  Predicted: 3.9\n",
      "Original: 4.0  Predicted: 3.5\n",
      "Original: 1.0  Predicted: 2.9\n",
      "Original: 3.0  Predicted: 2.9\n",
      "Original: 3.0  Predicted: 3.5\n",
      "Original: 4.0  Predicted: 3.8\n",
      "Original: 2.0  Predicted: 2.8\n",
      "Original: 5.0  Predicted: 3.7\n",
      "Original: 3.0  Predicted: 4.4\n",
      "Original: 3.0  Predicted: 3.1\n",
      "Original: 3.0  Predicted: 4.0\n",
      "Original: 3.5  Predicted: 2.7\n",
      "Original: 3.5  Predicted: 3.6\n",
      "Original: 2.5  Predicted: 3.9\n",
      "Original: 4.5  Predicted: 5.0\n",
      "Original: 2.0  Predicted: 2.0\n",
      "Original: 3.5  Predicted: 3.2\n",
      "Original: 4.5  Predicted: 4.1\n",
      "Original: 3.0  Predicted: 2.9\n",
      "Original: 3.0  Predicted: 3.7\n",
      "Original: 4.0  Predicted: 4.2\n",
      "Original: 3.0  Predicted: 3.4\n",
      "Original: 4.0  Predicted: 3.4\n",
      "Original: 3.0  Predicted: 3.8\n",
      "Original: 4.0  Predicted: 3.4\n",
      "Original: 3.5  Predicted: 2.8\n",
      "Original: 4.0  Predicted: 2.9\n",
      "Original: 1.0  Predicted: 4.0\n",
      "Original: 2.0  Predicted: 2.8\n",
      "Original: 4.0  Predicted: 3.5\n",
      "Original: 4.5  Predicted: 3.4\n",
      "Original: 4.5  Predicted: 4.1\n",
      "Original: 4.0  Predicted: 3.8\n",
      "Original: 4.0  Predicted: 3.0\n",
      "Original: 4.0  Predicted: 4.4\n",
      "Original: 3.0  Predicted: 3.8\n",
      "Original: 4.0  Predicted: 3.3\n",
      "Original: 3.0  Predicted: 3.3\n",
      "Original: 3.5  Predicted: 3.9\n",
      "Original: 4.0  Predicted: 3.5\n",
      "Original: 4.0  Predicted: 3.7\n",
      "Original: 4.5  Predicted: 3.9\n",
      "Original: 4.0  Predicted: 3.2\n",
      "Original: 4.0  Predicted: 3.5\n",
      "Original: 2.5  Predicted: 2.7\n",
      "Original: 4.0  Predicted: 3.5\n",
      "Original: 4.0  Predicted: 3.8\n",
      "Original: 2.5  Predicted: 2.7\n",
      "Original: 4.5  Predicted: 4.2\n",
      "Original: 1.0  Predicted: 2.4\n",
      "Original: 2.0  Predicted: 2.9\n",
      "Original: 4.0  Predicted: 2.5\n",
      "Original: 4.0  Predicted: 3.5\n",
      "Original: 3.0  Predicted: 3.0\n",
      "Original: 4.0  Predicted: 3.9\n",
      "Original: 2.0  Predicted: 2.0\n",
      "Original: 4.0  Predicted: 3.8\n",
      "Original: 5.0  Predicted: 4.1\n",
      "Original: 5.0  Predicted: 4.1\n",
      "Original: 4.0  Predicted: 4.2\n",
      "Original: 4.0  Predicted: 4.0\n",
      "Original: 2.0  Predicted: 3.6\n",
      "Original: 3.0  Predicted: 3.1\n",
      "Original: 2.0  Predicted: 2.8\n",
      "Original: 3.5  Predicted: 3.3\n",
      "Original: 3.5  Predicted: 3.2\n",
      "Original: 4.0  Predicted: 2.8\n",
      "Original: 4.0  Predicted: 4.0\n",
      "Original: 2.5  Predicted: 1.8\n",
      "Original: 2.5  Predicted: 3.6\n",
      "Original: 4.0  Predicted: 3.5\n",
      "Original: 5.0  Predicted: 4.7\n",
      "Original: 2.5  Predicted: 3.3\n",
      "Original: 3.5  Predicted: 3.9\n",
      "Original: 3.0  Predicted: 3.9\n",
      "Original: 2.0  Predicted: 3.2\n",
      "Original: 3.0  Predicted: 3.0\n",
      "Original: 4.0  Predicted: 3.1\n",
      "Original: 5.0  Predicted: 5.2\n",
      "Original: 5.0  Predicted: 4.1\n",
      "Original: 2.0  Predicted: 3.1\n",
      "Original: 3.0  Predicted: 3.5\n",
      "Original: 4.0  Predicted: 2.1\n",
      "Original: 3.0  Predicted: 4.1\n",
      "Original: 2.0  Predicted: 3.1\n",
      "Original: 2.0  Predicted: 3.1\n",
      "Original: 3.0  Predicted: 2.5\n",
      "Original: 4.0  Predicted: 3.6\n",
      "Original: 4.5  Predicted: 3.1\n",
      "Original: 3.0  Predicted: 3.8\n",
      "Original: 3.5  Predicted: 3.1\n",
      "Original: 3.5  Predicted: 3.3\n",
      "Original: 0.5  Predicted: 3.6\n",
      "Original: 3.0  Predicted: 3.9\n",
      "Original: 4.5  Predicted: 4.3\n",
      "Original: 2.5  Predicted: 2.8\n",
      "Original: 3.0  Predicted: 2.5\n"
     ]
    }
   ],
   "source": [
    "for index in test_index:    \n",
    "    print('Original: {}'.format(R[users[index],items[index]]) + '  ' + 'Predicted: {:.1f}'.format(R_pred[users[index],items[index]]))\n",
    "    \n"
   ]
  },
  {
   "cell_type": "code",
   "execution_count": 24,
   "metadata": {},
   "outputs": [],
   "source": [
    "# np.save('U_matrix', U)"
   ]
  },
  {
   "cell_type": "code",
   "execution_count": 25,
   "metadata": {},
   "outputs": [],
   "source": [
    "# np.save('M_matrix', M)"
   ]
  },
  {
   "cell_type": "markdown",
   "metadata": {},
   "source": [
    "## Adding Bias Terms"
   ]
  },
  {
   "cell_type": "markdown",
   "metadata": {},
   "source": [
    "First in order to simplify our code, let's create a few functions to automate every step"
   ]
  },
  {
   "cell_type": "code",
   "execution_count": 26,
   "metadata": {},
   "outputs": [],
   "source": [
    "def predict(x,y,i,j):\n",
    "        return mu + bi[i] + bj[j] + np.dot(x[i],y[j])\n",
    "        \n",
    "           \n",
    "def init_matrix(rmatrix,k):\n",
    "        n = rmatrix.shape[0]\n",
    "        m = rmatrix.shape[1]\n",
    "        U = np.random.rand(n,k)\n",
    "        M = np.random.rand(m,k)\n",
    "        return U,M,n,m\n",
    "\n",
    "def sgd_step(rmatrix,x,y,i,j):\n",
    "        err = rmatrix[i,j] - predict(x,y,i,j)\n",
    "        x[i] = x[i] + lr*(err*y[j]-l*x[i])\n",
    "        y[j] = y[j] + lr*(err*x[i]-l*y[j])\n",
    "            \n",
    "        \n",
    "def train(rmatrix,x,y,n_epoch,mu,bi,bj):\n",
    "        for epoch in range(n_epoch):\n",
    "            for user in range(rmatrix.shape[0]):\n",
    "                item_index = (~np.isnan(rmatrix[user,:])*1).nonzero()[0]\n",
    "                for movie in item_index:\n",
    "                    sgd_step(rmatrix,x,y,user,movie,mu,bi,bj)\n",
    "\n"
   ]
  },
  {
   "cell_type": "markdown",
   "metadata": {},
   "source": [
    "In order to improve our predictions, we will add bias terms"
   ]
  },
  {
   "cell_type": "code",
   "execution_count": 27,
   "metadata": {},
   "outputs": [],
   "source": [
    "def predict(x,y,i,j,mu,bi,bj):\n",
    "        return mu + bi[i] + bj[j] + np.dot(x[i],y[j])\n",
    "\n",
    "def sgd_step(rmatrix,x,y,i,j,mu,bi,bj):\n",
    "        err = rmatrix[i,j] - predict(x,y,i,j,mu,bi,bj)\n",
    "        x[i] += lr*(err*y[j]-l*x[i])\n",
    "        y[j] += lr*(err*x[i]-l*y[j])\n",
    "        bi[i] += lr*(err - l*bi[i])\n",
    "        bj[j] += lr*(err - l*bj[j])"
   ]
  },
  {
   "cell_type": "code",
   "execution_count": 28,
   "metadata": {},
   "outputs": [],
   "source": [
    "lr = 0.001\n",
    "l=0.001\n",
    "n_epoch = 50\n",
    "k = 20\n",
    "\n",
    "U,M,n,m = init_matrix(R,k)\n",
    "\n",
    "mu = np.mean(R_train[~np.isnan(R_train)])\n",
    "bi = np.random.rand(n)\n",
    "bj = np.random.rand(m)\n",
    "\n",
    "train(R_train,U,M,n_epoch,mu,bi,bj)"
   ]
  },
  {
   "cell_type": "code",
   "execution_count": 29,
   "metadata": {},
   "outputs": [],
   "source": [
    "R_pred = ((mu + U @ M.T)+bj)+bi[:, None]"
   ]
  },
  {
   "cell_type": "code",
   "execution_count": 30,
   "metadata": {},
   "outputs": [
    {
     "data": {
      "text/plain": [
       "0.8807428285195072"
      ]
     },
     "execution_count": 30,
     "metadata": {},
     "output_type": "execute_result"
    }
   ],
   "source": [
    "se=0\n",
    "for r_index in test_index: \n",
    "    se = se + (R[users[r_index],items[r_index]]  - R_pred[users[r_index],items[r_index]])**2\n",
    "    \n",
    "mse=se/test_size\n",
    "rmse = np.sqrt(mse)\n",
    "rmse"
   ]
  },
  {
   "cell_type": "code",
   "execution_count": 31,
   "metadata": {},
   "outputs": [
    {
     "data": {
      "text/plain": [
       "0.7757079299885421"
      ]
     },
     "execution_count": 31,
     "metadata": {},
     "output_type": "execute_result"
    }
   ],
   "source": [
    "mse"
   ]
  },
  {
   "cell_type": "markdown",
   "metadata": {},
   "source": [
    "Great results! Now let's wrap it in scikit-learn-like object so we can work with ease and effectively perform a grid search"
   ]
  },
  {
   "cell_type": "code",
   "execution_count": 142,
   "metadata": {},
   "outputs": [],
   "source": [
    "\n",
    "class MatrixFactorizer():\n",
    "    \n",
    "    def __init__(self, n_latent = 15, n_epoch = 30, learning_rate = 0.001,\n",
    "                 lmbda = 0.001, test_percent=0.3,random_state=None):\n",
    "        \n",
    "        self.k = n_latent\n",
    "        self.n_epoch = n_epoch\n",
    "        self.lr = learning_rate\n",
    "        self.l = lmbda\n",
    "        self.test_percent = test_percent\n",
    "        self.random_state = random_state\n",
    "\n",
    "    \n",
    "    def predict(self,U,M,i,j,mu,bi,bj):\n",
    "            return mu + bi[i] + bj[j] + np.dot(U[i],M[j])\n",
    "        \n",
    "    def sgd_step(self,R,U,M,i,j,mu,bi,bj):\n",
    "        lr = self.lr\n",
    "        l = self.l\n",
    "        err = R[i,j] - self.predict(self.U,self.M,i,j,self.mu,self.bi,self.bj)\n",
    "        self.U[i] += lr*(err*self.M[j]-l*self.U[i])\n",
    "        self.M[j] += lr*(err*self.U[i]-l*self.M[j])\n",
    "        self.bi[i] += lr*(err - l*self.bi[i])\n",
    "        self.bj[j] += lr*(err - l*self.bj[j])\n",
    "    \n",
    "    def init_params(self,R):\n",
    "        np.random.seed(self.random_state)\n",
    "        self.n = R.shape[0]\n",
    "        self.m = R.shape[1]\n",
    "        self.U = np.random.rand(self.n,self.k)\n",
    "        self.M = np.random.rand(self.m,self.k)\n",
    "        \n",
    "    def init_intercept(self,R):\n",
    "        np.random.seed(self.random_state)\n",
    "        self.mu = np.mean(R[~np.isnan(R)])\n",
    "        self.bi = np.random.rand(self.n)\n",
    "        self.bj = np.random.rand(self.m)\n",
    "        \n",
    "\n",
    "    def fit(self, R):\n",
    "        \n",
    "        self.present_epoch = 0\n",
    "        self.init_params(R)\n",
    "        self.init_intercept(R)\n",
    "         \n",
    "        \n",
    "        for epoch in range(self.n_epoch):\n",
    "            self.present_epoch += 1\n",
    "            self.partial_fit(R)\n",
    "            print('Trained epoch ({}/{})'.format(self.present_epoch,self.n_epoch))\n",
    "            \n",
    "        \n",
    "        \n",
    "    def partial_fit(self, R):\n",
    "        \n",
    "        for user in range(self.n):\n",
    "                item_index = (~np.isnan(R[user,:])*1).nonzero()[0]\n",
    "                for movie in item_index:\n",
    "                    self.sgd_step(R,self.U,self.M,user,movie,self.mu,self.bi,self.bj)\n",
    "    \n",
    "    \n",
    "    def transform(self):\n",
    "        return ((self.mu + self.U @ (self.M).T)+self.bj)+self.bi[:, None]\n",
    "    \n",
    "    def fit_transform(self,R):\n",
    "        self.fit(R)\n",
    "        return self.transform()\n",
    "    \n",
    "    def score(self,R,R_pred,test_index):\n",
    "        \n",
    "        users,items = (~np.isnan(R)*1).nonzero()\n",
    "        test_size = test_index.shape[0]\n",
    "        se=0\n",
    "        \n",
    "        for r_index in test_index: \n",
    "            se += (R[users[r_index],items[r_index]]  - R_pred[users[r_index],items[r_index]])**2\n",
    "    \n",
    "        mse=se/test_size\n",
    "        rmse = np.sqrt(mse)\n",
    "        return rmse, mse\n"
   ]
  },
  {
   "cell_type": "code",
   "execution_count": 134,
   "metadata": {},
   "outputs": [],
   "source": [
    "def train_test_mf(R, test_percent=0.3,random_state=None):\n",
    "    np.random.seed(random_state)\n",
    "    n = R.shape[0]\n",
    "    ## We obtain the information about the non-null data in our ranking matrix\n",
    "    users,items = (~np.isnan(R)*1).nonzero()\n",
    "        \n",
    "    ## Create a random subset corresponding to our test data\n",
    "    test_size= int(n*test_percent)\n",
    "    test_index = np.random.randint(low=0, high=users.shape[0],size=test_size, dtype=int)\n",
    "        \n",
    "    ## We create our training set removing the test rankings\n",
    "    R_train = np.copy(R)\n",
    "    for r_index in test_index:\n",
    "        R_train[users[r_index],items[r_index]] = np.nan\n",
    "            \n",
    "    return R_train, test_index"
   ]
  },
  {
   "cell_type": "code",
   "execution_count": 49,
   "metadata": {},
   "outputs": [
    {
     "data": {
      "text/plain": [
       "(0.9149867160110354, 0.8372006904766592)"
      ]
     },
     "execution_count": 49,
     "metadata": {},
     "output_type": "execute_result"
    }
   ],
   "source": [
    "R_train, test_index = train_test_mf(R,random_state=42)\n",
    "mf = MatrixFactorizer(n_latent=15,n_epoch=100,learning_rate=0.001,random_state=42)\n",
    "R_pred = mf.fit_transform(R_train)\n",
    "mf.score(R,R_pred,test_index)"
   ]
  },
  {
   "cell_type": "markdown",
   "metadata": {},
   "source": [
    "Let's study how our model error changes in each epoch for our test set"
   ]
  },
  {
   "cell_type": "code",
   "execution_count": 55,
   "metadata": {},
   "outputs": [],
   "source": [
    "n_epoch = 100\n",
    "R_train, test_index = train_test_mf(R,random_state=42)\n",
    "mf = MatrixFactorizer(n_latent=15,random_state=42)\n",
    "mf.init_params(R_train)\n",
    "mf.init_intercept(R_train)\n",
    "test_error = []\n",
    "for epoch in range(n_epoch):\n",
    "    mf.partial_fit(R_train)\n",
    "    R_pred = mf.transform()\n",
    "    test_rmse, test_mse = mf.score(R,R_pred,test_index)\n",
    "    test_error.append(test_mse)"
   ]
  },
  {
   "cell_type": "code",
   "execution_count": 62,
   "metadata": {},
   "outputs": [
    {
     "data": {
      "image/png": "[encoded data removed]",
      "text/plain": [
       "<Figure size 432x288 with 1 Axes>"
      ]
     },
     "metadata": {
      "needs_background": "light"
     },
     "output_type": "display_data"
    }
   ],
   "source": [
    "plt.plot(range(n_epoch),test_error)\n",
    "plt.show()"
   ]
  },
  {
   "cell_type": "code",
   "execution_count": 64,
   "metadata": {},
   "outputs": [
    {
     "data": {
      "image/png": "[encoded data removed]",
      "text/plain": [
       "<Figure size 432x288 with 1 Axes>"
      ]
     },
     "metadata": {
      "needs_background": "light"
     },
     "output_type": "display_data"
    }
   ],
   "source": [
    "plt.plot(range(n_epoch)[20:],test_error[20:])\n",
    "plt.show()"
   ]
  },
  {
   "cell_type": "markdown",
   "metadata": {},
   "source": [
    "It seems our error starts increasing at around 60 epochs, most likely due to SGD overfitting our data. From now on we will assume this number of epochs as a standard to fit our data"
   ]
  },
  {
   "cell_type": "markdown",
   "metadata": {},
   "source": [
    "Given that both the user and movie matrix (U,M) are unknowns, we are dealing wit a non-convex problem. Because of this it is quite likely for the gradient descent to get stuck in a local minimum. An appropiate learning rate schedule may help us improve the recommender's accuracy"
   ]
  },
  {
   "cell_type": "code",
   "execution_count": 50,
   "metadata": {},
   "outputs": [],
   "source": [
    "def learning_schedule(t,lr0,lrinf,alpha=0.05):\n",
    "    c2 = lrinf\n",
    "    c1 = lr0 - c2\n",
    "        \n",
    "    return (c1*np.exp(-t*alpha))+c2"
   ]
  },
  {
   "cell_type": "code",
   "execution_count": 51,
   "metadata": {},
   "outputs": [],
   "source": [
    "n_epoch = 100\n",
    "R_train, test_index = train_test_mf(R,random_state=42)\n",
    "mf = MatrixFactorizer(n_latent=15,random_state=42)\n",
    "mf.init_params(R_train)\n",
    "mf.init_intercept(R_train)\n",
    "for epoch in range(n_epoch):\n",
    "    mf.lr = learning_schedule(epoch,0.01,0.0001,alpha=0.05)\n",
    "    mf.partial_fit(R_train)    "
   ]
  },
  {
   "cell_type": "code",
   "execution_count": 52,
   "metadata": {},
   "outputs": [
    {
     "data": {
      "text/plain": [
       "(0.9898606562886413, 0.9798241188681795)"
      ]
     },
     "execution_count": 52,
     "metadata": {},
     "output_type": "execute_result"
    }
   ],
   "source": [
    "R_pred = mf.transform()\n",
    "mf.score(R,R_pred,test_index)"
   ]
  },
  {
   "cell_type": "markdown",
   "metadata": {},
   "source": [
    "It seems our learning rate schedule significantly improves our model convergence. Now we will perform a grid search to find a good set of hyperparameter values for k and lambda"
   ]
  },
  {
   "cell_type": "code",
   "execution_count": 65,
   "metadata": {},
   "outputs": [],
   "source": [
    "lmbda_l = [0.1,0.01,0.001]\n",
    "k_l = [10,20,30]"
   ]
  },
  {
   "cell_type": "code",
   "execution_count": 66,
   "metadata": {},
   "outputs": [
    {
     "name": "stdout",
     "output_type": "stream",
     "text": [
      "lmbda: 0.1 | latent_feat: 10 | mse: 0.7783482564046749\n",
      "lmbda: 0.1 | latent_feat: 20 | mse: 0.7716603974685764\n",
      "lmbda: 0.1 | latent_feat: 30 | mse: 0.7297751174207412\n",
      "lmbda: 0.01 | latent_feat: 10 | mse: 0.8262736324843788\n",
      "lmbda: 0.01 | latent_feat: 20 | mse: 0.8744961024893396\n",
      "lmbda: 0.01 | latent_feat: 30 | mse: 0.7839383800218369\n",
      "lmbda: 0.001 | latent_feat: 10 | mse: 0.8339329732513667\n",
      "lmbda: 0.001 | latent_feat: 20 | mse: 0.8969852371266412\n",
      "lmbda: 0.001 | latent_feat: 30 | mse: 0.7973619656667493\n"
     ]
    }
   ],
   "source": [
    "for lmbda in lmbda_l:\n",
    "    for k in k_l:\n",
    "        R_train, test_index = train_test_mf(R,random_state=42)\n",
    "        mf = MatrixFactorizer(n_latent=k,n_epoch=60,learning_rate=0.001,lmbda=lmbda,random_state=42)\n",
    "        R_pred = mf.fit_transform(R_train)\n",
    "        rmse, mse = mf.score(R,R_pred,test_index)\n",
    "        print('lmbda: {}'.format(lmbda) + ' | ' + 'latent_feat: {}'.format(k) + ' | ' + 'mse: {}'.format(mse))"
   ]
  },
  {
   "cell_type": "markdown",
   "metadata": {},
   "source": [
    "It seems Lambda = 0.1 and 30 latent features gives the best results. Note thas these values are at the ends of our samples, so it may be worthwhile trying more values around them. For now we will keep these. For sanity check, let's make sure our results are reproducible"
   ]
  },
  {
   "cell_type": "code",
   "execution_count": 67,
   "metadata": {},
   "outputs": [
    {
     "data": {
      "text/plain": [
       "(0.85426876181957, 0.7297751174207412)"
      ]
     },
     "execution_count": 67,
     "metadata": {},
     "output_type": "execute_result"
    }
   ],
   "source": [
    "R_train, test_index = train_test_mf(R,random_state=42)\n",
    "mf = MatrixFactorizer(n_latent=30,n_epoch=60,learning_rate=0.001,random_state=42,lmbda=0.1)\n",
    "R_pred = mf.fit_transform(R_train)\n",
    "mf.score(R,R_pred,test_index)"
   ]
  },
  {
   "cell_type": "markdown",
   "metadata": {},
   "source": [
    "## MovieLens 1M DataSet"
   ]
  },
  {
   "cell_type": "code",
   "execution_count": 135,
   "metadata": {},
   "outputs": [],
   "source": [
    "ratings1m = pd.read_csv('data/ratings1m.dat',sep='::',header=None,names=[\"userId\", \"movieId\", \"rating\", \"timestamp\"],engine='python')"
   ]
  },
  {
   "cell_type": "code",
   "execution_count": 136,
   "metadata": {},
   "outputs": [],
   "source": [
    "ratings1m.drop('timestamp', axis=1,inplace=True)"
   ]
  },
  {
   "cell_type": "code",
   "execution_count": 137,
   "metadata": {},
   "outputs": [],
   "source": [
    "ratings1m.userId = ratings1m.userId.astype('category').cat.codes.values\n",
    "ratings1m.movieId = ratings1m.movieId.astype('category').cat.codes.values"
   ]
  },
  {
   "cell_type": "code",
   "execution_count": 138,
   "metadata": {},
   "outputs": [],
   "source": [
    "R2 = pd.pivot_table(data=ratings1m,values='rating',index='userId', columns='movieId')"
   ]
  },
  {
   "cell_type": "code",
   "execution_count": 139,
   "metadata": {},
   "outputs": [
    {
     "data": {
      "text/html": [
       "<div>\n",
       "<style scoped>\n",
       "    .dataframe tbody tr th:only-of-type {\n",
       "        vertical-align: middle;\n",
       "    }\n",
       "\n",
       "    .dataframe tbody tr th {\n",
       "        vertical-align: top;\n",
       "    }\n",
       "\n",
       "    .dataframe thead th {\n",
       "        text-align: right;\n",
       "    }\n",
       "</style>\n",
       "<table border=\"1\" class=\"dataframe\">\n",
       "  <thead>\n",
       "    <tr style=\"text-align: right;\">\n",
       "      <th>movieId</th>\n",
       "      <th>0</th>\n",
       "      <th>1</th>\n",
       "      <th>2</th>\n",
       "      <th>3</th>\n",
       "      <th>4</th>\n",
       "      <th>5</th>\n",
       "      <th>6</th>\n",
       "      <th>7</th>\n",
       "      <th>8</th>\n",
       "      <th>9</th>\n",
       "      <th>...</th>\n",
       "      <th>3696</th>\n",
       "      <th>3697</th>\n",
       "      <th>3698</th>\n",
       "      <th>3699</th>\n",
       "      <th>3700</th>\n",
       "      <th>3701</th>\n",
       "      <th>3702</th>\n",
       "      <th>3703</th>\n",
       "      <th>3704</th>\n",
       "      <th>3705</th>\n",
       "    </tr>\n",
       "    <tr>\n",
       "      <th>userId</th>\n",
       "      <th></th>\n",
       "      <th></th>\n",
       "      <th></th>\n",
       "      <th></th>\n",
       "      <th></th>\n",
       "      <th></th>\n",
       "      <th></th>\n",
       "      <th></th>\n",
       "      <th></th>\n",
       "      <th></th>\n",
       "      <th></th>\n",
       "      <th></th>\n",
       "      <th></th>\n",
       "      <th></th>\n",
       "      <th></th>\n",
       "      <th></th>\n",
       "      <th></th>\n",
       "      <th></th>\n",
       "      <th></th>\n",
       "      <th></th>\n",
       "      <th></th>\n",
       "    </tr>\n",
       "  </thead>\n",
       "  <tbody>\n",
       "    <tr>\n",
       "      <th>0</th>\n",
       "      <td>5.0</td>\n",
       "      <td>NaN</td>\n",
       "      <td>NaN</td>\n",
       "      <td>NaN</td>\n",
       "      <td>NaN</td>\n",
       "      <td>NaN</td>\n",
       "      <td>NaN</td>\n",
       "      <td>NaN</td>\n",
       "      <td>NaN</td>\n",
       "      <td>NaN</td>\n",
       "      <td>...</td>\n",
       "      <td>NaN</td>\n",
       "      <td>NaN</td>\n",
       "      <td>NaN</td>\n",
       "      <td>NaN</td>\n",
       "      <td>NaN</td>\n",
       "      <td>NaN</td>\n",
       "      <td>NaN</td>\n",
       "      <td>NaN</td>\n",
       "      <td>NaN</td>\n",
       "      <td>NaN</td>\n",
       "    </tr>\n",
       "    <tr>\n",
       "      <th>1</th>\n",
       "      <td>NaN</td>\n",
       "      <td>NaN</td>\n",
       "      <td>NaN</td>\n",
       "      <td>NaN</td>\n",
       "      <td>NaN</td>\n",
       "      <td>NaN</td>\n",
       "      <td>NaN</td>\n",
       "      <td>NaN</td>\n",
       "      <td>NaN</td>\n",
       "      <td>NaN</td>\n",
       "      <td>...</td>\n",
       "      <td>NaN</td>\n",
       "      <td>NaN</td>\n",
       "      <td>NaN</td>\n",
       "      <td>NaN</td>\n",
       "      <td>NaN</td>\n",
       "      <td>NaN</td>\n",
       "      <td>NaN</td>\n",
       "      <td>NaN</td>\n",
       "      <td>NaN</td>\n",
       "      <td>NaN</td>\n",
       "    </tr>\n",
       "    <tr>\n",
       "      <th>2</th>\n",
       "      <td>NaN</td>\n",
       "      <td>NaN</td>\n",
       "      <td>NaN</td>\n",
       "      <td>NaN</td>\n",
       "      <td>NaN</td>\n",
       "      <td>NaN</td>\n",
       "      <td>NaN</td>\n",
       "      <td>NaN</td>\n",
       "      <td>NaN</td>\n",
       "      <td>NaN</td>\n",
       "      <td>...</td>\n",
       "      <td>NaN</td>\n",
       "      <td>NaN</td>\n",
       "      <td>NaN</td>\n",
       "      <td>NaN</td>\n",
       "      <td>NaN</td>\n",
       "      <td>NaN</td>\n",
       "      <td>NaN</td>\n",
       "      <td>NaN</td>\n",
       "      <td>NaN</td>\n",
       "      <td>NaN</td>\n",
       "    </tr>\n",
       "    <tr>\n",
       "      <th>3</th>\n",
       "      <td>NaN</td>\n",
       "      <td>NaN</td>\n",
       "      <td>NaN</td>\n",
       "      <td>NaN</td>\n",
       "      <td>NaN</td>\n",
       "      <td>NaN</td>\n",
       "      <td>NaN</td>\n",
       "      <td>NaN</td>\n",
       "      <td>NaN</td>\n",
       "      <td>NaN</td>\n",
       "      <td>...</td>\n",
       "      <td>NaN</td>\n",
       "      <td>NaN</td>\n",
       "      <td>NaN</td>\n",
       "      <td>NaN</td>\n",
       "      <td>NaN</td>\n",
       "      <td>NaN</td>\n",
       "      <td>NaN</td>\n",
       "      <td>NaN</td>\n",
       "      <td>NaN</td>\n",
       "      <td>NaN</td>\n",
       "    </tr>\n",
       "    <tr>\n",
       "      <th>4</th>\n",
       "      <td>NaN</td>\n",
       "      <td>NaN</td>\n",
       "      <td>NaN</td>\n",
       "      <td>NaN</td>\n",
       "      <td>NaN</td>\n",
       "      <td>2.0</td>\n",
       "      <td>NaN</td>\n",
       "      <td>NaN</td>\n",
       "      <td>NaN</td>\n",
       "      <td>NaN</td>\n",
       "      <td>...</td>\n",
       "      <td>NaN</td>\n",
       "      <td>NaN</td>\n",
       "      <td>NaN</td>\n",
       "      <td>NaN</td>\n",
       "      <td>NaN</td>\n",
       "      <td>NaN</td>\n",
       "      <td>NaN</td>\n",
       "      <td>NaN</td>\n",
       "      <td>NaN</td>\n",
       "      <td>NaN</td>\n",
       "    </tr>\n",
       "    <tr>\n",
       "      <th>...</th>\n",
       "      <td>...</td>\n",
       "      <td>...</td>\n",
       "      <td>...</td>\n",
       "      <td>...</td>\n",
       "      <td>...</td>\n",
       "      <td>...</td>\n",
       "      <td>...</td>\n",
       "      <td>...</td>\n",
       "      <td>...</td>\n",
       "      <td>...</td>\n",
       "      <td>...</td>\n",
       "      <td>...</td>\n",
       "      <td>...</td>\n",
       "      <td>...</td>\n",
       "      <td>...</td>\n",
       "      <td>...</td>\n",
       "      <td>...</td>\n",
       "      <td>...</td>\n",
       "      <td>...</td>\n",
       "      <td>...</td>\n",
       "      <td>...</td>\n",
       "    </tr>\n",
       "    <tr>\n",
       "      <th>6035</th>\n",
       "      <td>NaN</td>\n",
       "      <td>NaN</td>\n",
       "      <td>NaN</td>\n",
       "      <td>2.0</td>\n",
       "      <td>NaN</td>\n",
       "      <td>3.0</td>\n",
       "      <td>NaN</td>\n",
       "      <td>NaN</td>\n",
       "      <td>NaN</td>\n",
       "      <td>NaN</td>\n",
       "      <td>...</td>\n",
       "      <td>NaN</td>\n",
       "      <td>NaN</td>\n",
       "      <td>NaN</td>\n",
       "      <td>NaN</td>\n",
       "      <td>NaN</td>\n",
       "      <td>NaN</td>\n",
       "      <td>NaN</td>\n",
       "      <td>NaN</td>\n",
       "      <td>NaN</td>\n",
       "      <td>NaN</td>\n",
       "    </tr>\n",
       "    <tr>\n",
       "      <th>6036</th>\n",
       "      <td>NaN</td>\n",
       "      <td>NaN</td>\n",
       "      <td>NaN</td>\n",
       "      <td>NaN</td>\n",
       "      <td>NaN</td>\n",
       "      <td>NaN</td>\n",
       "      <td>NaN</td>\n",
       "      <td>NaN</td>\n",
       "      <td>NaN</td>\n",
       "      <td>NaN</td>\n",
       "      <td>...</td>\n",
       "      <td>NaN</td>\n",
       "      <td>NaN</td>\n",
       "      <td>NaN</td>\n",
       "      <td>NaN</td>\n",
       "      <td>NaN</td>\n",
       "      <td>NaN</td>\n",
       "      <td>NaN</td>\n",
       "      <td>NaN</td>\n",
       "      <td>NaN</td>\n",
       "      <td>NaN</td>\n",
       "    </tr>\n",
       "    <tr>\n",
       "      <th>6037</th>\n",
       "      <td>NaN</td>\n",
       "      <td>NaN</td>\n",
       "      <td>NaN</td>\n",
       "      <td>NaN</td>\n",
       "      <td>NaN</td>\n",
       "      <td>NaN</td>\n",
       "      <td>NaN</td>\n",
       "      <td>NaN</td>\n",
       "      <td>NaN</td>\n",
       "      <td>NaN</td>\n",
       "      <td>...</td>\n",
       "      <td>NaN</td>\n",
       "      <td>NaN</td>\n",
       "      <td>NaN</td>\n",
       "      <td>NaN</td>\n",
       "      <td>NaN</td>\n",
       "      <td>NaN</td>\n",
       "      <td>NaN</td>\n",
       "      <td>NaN</td>\n",
       "      <td>NaN</td>\n",
       "      <td>NaN</td>\n",
       "    </tr>\n",
       "    <tr>\n",
       "      <th>6038</th>\n",
       "      <td>NaN</td>\n",
       "      <td>NaN</td>\n",
       "      <td>NaN</td>\n",
       "      <td>NaN</td>\n",
       "      <td>NaN</td>\n",
       "      <td>NaN</td>\n",
       "      <td>NaN</td>\n",
       "      <td>NaN</td>\n",
       "      <td>NaN</td>\n",
       "      <td>NaN</td>\n",
       "      <td>...</td>\n",
       "      <td>NaN</td>\n",
       "      <td>NaN</td>\n",
       "      <td>NaN</td>\n",
       "      <td>NaN</td>\n",
       "      <td>NaN</td>\n",
       "      <td>NaN</td>\n",
       "      <td>NaN</td>\n",
       "      <td>NaN</td>\n",
       "      <td>NaN</td>\n",
       "      <td>NaN</td>\n",
       "    </tr>\n",
       "    <tr>\n",
       "      <th>6039</th>\n",
       "      <td>3.0</td>\n",
       "      <td>NaN</td>\n",
       "      <td>NaN</td>\n",
       "      <td>NaN</td>\n",
       "      <td>NaN</td>\n",
       "      <td>NaN</td>\n",
       "      <td>NaN</td>\n",
       "      <td>NaN</td>\n",
       "      <td>NaN</td>\n",
       "      <td>NaN</td>\n",
       "      <td>...</td>\n",
       "      <td>NaN</td>\n",
       "      <td>NaN</td>\n",
       "      <td>NaN</td>\n",
       "      <td>NaN</td>\n",
       "      <td>NaN</td>\n",
       "      <td>NaN</td>\n",
       "      <td>NaN</td>\n",
       "      <td>NaN</td>\n",
       "      <td>NaN</td>\n",
       "      <td>NaN</td>\n",
       "    </tr>\n",
       "  </tbody>\n",
       "</table>\n",
       "<p>6040 rows × 3706 columns</p>\n",
       "</div>"
      ],
      "text/plain": [
       "movieId  0     1     2     3     4     5     6     7     8     9     ...  \\\n",
       "userId                                                               ...   \n",
       "0         5.0   NaN   NaN   NaN   NaN   NaN   NaN   NaN   NaN   NaN  ...   \n",
       "1         NaN   NaN   NaN   NaN   NaN   NaN   NaN   NaN   NaN   NaN  ...   \n",
       "2         NaN   NaN   NaN   NaN   NaN   NaN   NaN   NaN   NaN   NaN  ...   \n",
       "3         NaN   NaN   NaN   NaN   NaN   NaN   NaN   NaN   NaN   NaN  ...   \n",
       "4         NaN   NaN   NaN   NaN   NaN   2.0   NaN   NaN   NaN   NaN  ...   \n",
       "...       ...   ...   ...   ...   ...   ...   ...   ...   ...   ...  ...   \n",
       "6035      NaN   NaN   NaN   2.0   NaN   3.0   NaN   NaN   NaN   NaN  ...   \n",
       "6036      NaN   NaN   NaN   NaN   NaN   NaN   NaN   NaN   NaN   NaN  ...   \n",
       "6037      NaN   NaN   NaN   NaN   NaN   NaN   NaN   NaN   NaN   NaN  ...   \n",
       "6038      NaN   NaN   NaN   NaN   NaN   NaN   NaN   NaN   NaN   NaN  ...   \n",
       "6039      3.0   NaN   NaN   NaN   NaN   NaN   NaN   NaN   NaN   NaN  ...   \n",
       "\n",
       "movieId  3696  3697  3698  3699  3700  3701  3702  3703  3704  3705  \n",
       "userId                                                               \n",
       "0         NaN   NaN   NaN   NaN   NaN   NaN   NaN   NaN   NaN   NaN  \n",
       "1         NaN   NaN   NaN   NaN   NaN   NaN   NaN   NaN   NaN   NaN  \n",
       "2         NaN   NaN   NaN   NaN   NaN   NaN   NaN   NaN   NaN   NaN  \n",
       "3         NaN   NaN   NaN   NaN   NaN   NaN   NaN   NaN   NaN   NaN  \n",
       "4         NaN   NaN   NaN   NaN   NaN   NaN   NaN   NaN   NaN   NaN  \n",
       "...       ...   ...   ...   ...   ...   ...   ...   ...   ...   ...  \n",
       "6035      NaN   NaN   NaN   NaN   NaN   NaN   NaN   NaN   NaN   NaN  \n",
       "6036      NaN   NaN   NaN   NaN   NaN   NaN   NaN   NaN   NaN   NaN  \n",
       "6037      NaN   NaN   NaN   NaN   NaN   NaN   NaN   NaN   NaN   NaN  \n",
       "6038      NaN   NaN   NaN   NaN   NaN   NaN   NaN   NaN   NaN   NaN  \n",
       "6039      NaN   NaN   NaN   NaN   NaN   NaN   NaN   NaN   NaN   NaN  \n",
       "\n",
       "[6040 rows x 3706 columns]"
      ]
     },
     "execution_count": 139,
     "metadata": {},
     "output_type": "execute_result"
    }
   ],
   "source": [
    "R2"
   ]
  },
  {
   "cell_type": "code",
   "execution_count": 140,
   "metadata": {},
   "outputs": [],
   "source": [
    "R2= np.array(R2)"
   ]
  },
  {
   "cell_type": "markdown",
   "metadata": {},
   "source": [
    "Now let's see how our model performs in this dataset. (It will take a lot more time to fit than the 100k dataset)"
   ]
  },
  {
   "cell_type": "code",
   "execution_count": 144,
   "metadata": {},
   "outputs": [
    {
     "name": "stdout",
     "output_type": "stream",
     "text": [
      "Trained epoch (1/60)\n",
      "Trained epoch (2/60)\n",
      "Trained epoch (3/60)\n",
      "Trained epoch (4/60)\n",
      "Trained epoch (5/60)\n",
      "Trained epoch (6/60)\n",
      "Trained epoch (7/60)\n",
      "Trained epoch (8/60)\n",
      "Trained epoch (9/60)\n",
      "Trained epoch (10/60)\n",
      "Trained epoch (11/60)\n",
      "Trained epoch (12/60)\n",
      "Trained epoch (13/60)\n",
      "Trained epoch (14/60)\n",
      "Trained epoch (15/60)\n",
      "Trained epoch (16/60)\n",
      "Trained epoch (17/60)\n",
      "Trained epoch (18/60)\n",
      "Trained epoch (19/60)\n",
      "Trained epoch (20/60)\n",
      "Trained epoch (21/60)\n",
      "Trained epoch (22/60)\n",
      "Trained epoch (23/60)\n",
      "Trained epoch (24/60)\n",
      "Trained epoch (25/60)\n",
      "Trained epoch (26/60)\n",
      "Trained epoch (27/60)\n",
      "Trained epoch (28/60)\n",
      "Trained epoch (29/60)\n",
      "Trained epoch (30/60)\n",
      "Trained epoch (31/60)\n",
      "Trained epoch (32/60)\n",
      "Trained epoch (33/60)\n",
      "Trained epoch (34/60)\n",
      "Trained epoch (35/60)\n",
      "Trained epoch (36/60)\n",
      "Trained epoch (37/60)\n",
      "Trained epoch (38/60)\n",
      "Trained epoch (39/60)\n",
      "Trained epoch (40/60)\n",
      "Trained epoch (41/60)\n",
      "Trained epoch (42/60)\n",
      "Trained epoch (43/60)\n",
      "Trained epoch (44/60)\n",
      "Trained epoch (45/60)\n",
      "Trained epoch (46/60)\n",
      "Trained epoch (47/60)\n",
      "Trained epoch (48/60)\n",
      "Trained epoch (49/60)\n",
      "Trained epoch (50/60)\n",
      "Trained epoch (51/60)\n",
      "Trained epoch (52/60)\n",
      "Trained epoch (53/60)\n",
      "Trained epoch (54/60)\n",
      "Trained epoch (55/60)\n",
      "Trained epoch (56/60)\n",
      "Trained epoch (57/60)\n",
      "Trained epoch (58/60)\n",
      "Trained epoch (59/60)\n",
      "Trained epoch (60/60)\n"
     ]
    },
    {
     "data": {
      "text/plain": [
       "(0.9106858736854151, 0.8293487605301678)"
      ]
     },
     "execution_count": 144,
     "metadata": {},
     "output_type": "execute_result"
    }
   ],
   "source": [
    "R_train, test_index = train_test_mf(R2,random_state=42)\n",
    "mf = MatrixFactorizer(n_latent=30,n_epoch=60,learning_rate=0.001,lmbda=0.1,random_state=42)\n",
    "R_pred = mf.fit_transform(R_train)\n",
    "mf.score(R2,R_pred,test_index)"
   ]
  },
  {
   "cell_type": "code",
   "execution_count": null,
   "metadata": {},
   "outputs": [],
   "source": []
  }
 ],
 "metadata": {
  "kernelspec": {
   "display_name": "Python 3",
   "language": "python",
   "name": "python3"
  },
  "language_info": {
   "codemirror_mode": {
    "name": "ipython",
    "version": 3
   },
   "file_extension": ".py",
   "mimetype": "text/x-python",
   "name": "python",
   "nbconvert_exporter": "python",
   "pygments_lexer": "ipython3",
   "version": "3.8.5"
  }
 },
 "nbformat": 4,
 "nbformat_minor": 4
}
